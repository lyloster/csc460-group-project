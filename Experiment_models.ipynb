{
  "nbformat": 4,
  "nbformat_minor": 0,
  "metadata": {
    "colab": {
      "provenance": []
    },
    "kernelspec": {
      "name": "python3",
      "display_name": "Python 3"
    },
    "language_info": {
      "name": "python"
    }
  },
  "cells": [
    {
      "cell_type": "code",
      "source": [
        "import pandas as pd"
      ],
      "metadata": {
        "id": "iPsOkjbk48xD"
      },
      "execution_count": null,
      "outputs": []
    },
    {
      "cell_type": "code",
      "execution_count": null,
      "metadata": {
        "id": "J9EFzSQd2qtT"
      },
      "outputs": [],
      "source": [
        "import matplotlib.pyplot as plt\n",
        "import numpy as np\n",
        "THRESHOLD_MISSING = 5\n",
        "THRESHOLD_CORRELATION = 0.90\n",
        "\n",
        "def clean_FAOSTAT(df):\n",
        "    #keep data only from FAO TIER 1 source, original data contains data for same year but from multiple sources\n",
        "    #both sources have similar measurements\n",
        "    #FAO TIER 1 is more complete than UNFCCC\n",
        "    cleaned_df = df[df[\"Source Code\"] == 3050] #FAO TIER 1\n",
        "    #drop numeric codes that do not apply\n",
        "    cleaned_df = cleaned_df.drop(['Area Code', 'Item Code', 'Source Code', 'Source', 'Element Code'], axis=1)\n",
        "    #extract columns belonging to the USA\n",
        "    cleaned_df = cleaned_df[cleaned_df['Area'] == 'United States of America']\n",
        "    #rename Items column to Activity\n",
        "    cleaned_df.rename(columns={'Item':'Activity'}, inplace=True)\n",
        "    #reset the index\n",
        "    cleaned_df = cleaned_df.reset_index(drop=True)\n",
        "    return cleaned_df\n",
        "\n",
        "#Clean up the emissions dataframe consisting of only emission activity/element and year\n",
        "def create_emissions_frame(columns, df):\n",
        "    df['Emission'] = df[columns[0]].astype(str) + '_' + df[columns[1]]\n",
        "    df.drop(columns, axis=1, inplace=True)\n",
        "    df.insert(0,'Emission', df.pop('Emission'))\n",
        "    df = drop_year_no_data(df)\n",
        "    df = df.set_index('Emission').transpose().fillna(0).reset_index()\n",
        "    df['index'] = df['index'].str.lstrip('Y')\n",
        "    return df.rename(columns={'index':'Year'}).set_index('Year')\n",
        "\n",
        "#filter the emissions list to only contain the biggest contributers to argiculture\n",
        "def list_emissions(emission_name, emission_activity_and_type):\n",
        "    return list(filter(lambda emission: emission_name in emission[1],emission_activity_and_type))\n",
        "\n",
        "#Because Area and Unit are the same value in every row (USA, Kilotonnes respectively), I will drop those. Set the column indicies to Activity\n",
        "def create_emission_df(df, emission_list):\n",
        "    return df[df['Element'].isin([el[1] for el in emission_list])].drop(['Area', 'Unit'], axis=1).reset_index(drop=True)\n",
        "\n",
        "#drop columns where more than THRESHOLD_MISSING % of data is missing\n",
        "def drop_year_no_data(df):\n",
        "    #df columns currently are Year 19XX/2XXX\n",
        "    for column in df:\n",
        "        #if there is too much data missing for a particular year, drop it\n",
        "        #initial check showed most data prior to 1990 is missing & is effectively being dropped\n",
        "        if check_percent_data_missing(df[column]) > THRESHOLD_MISSING:\n",
        "            df.drop(column, axis=1, inplace=True)\n",
        "    return df\n",
        "\n",
        "#check % of data missing in each column\n",
        "def check_percent_data_missing(df):\n",
        "    return df.isnull().sum()/df.shape[0] * 100\n",
        "\n",
        "#a lot of data in set relates to emissions due to fires, keep emissions only related to agriculture\n",
        "def keep_agriculture_data(df):\n",
        "    columns_to_keep = []\n",
        "    for column in df:\n",
        "        if \"agricult\" in str(column).lower() or \"farm\" in str(column).lower():\n",
        "            columns_to_keep.append(str(column))\n",
        "    cleaned_df = df[columns_to_keep]\n",
        "    return cleaned_df\n",
        "\n",
        "#a lot of data in set relates to emissions due to fires, keep emissions only related to agriculture\n",
        "def remove_fire_data(df):\n",
        "    for column in df:\n",
        "        #LULUCF emissions are a metric of how much emissions are sunk by forests\n",
        "        if \"fire\" in str(column).lower() or \"burn\" in str(column).lower() or \"forest\" in str(column).lower() or \"LULUCF\" in str(column).lower():\n",
        "            df.drop(column, axis=1, inplace=True)\n",
        "    return df\n",
        "\n",
        "def visualize_column(column, label_y, title):\n",
        "    plt.plot(column.index, column)\n",
        "    plt.xlabel(\"Year\")\n",
        "    axes = plt.axes()\n",
        "    axes.xaxis.set_major_locator(plt.MaxNLocator(10))\n",
        "    plt.ylabel(label_y)\n",
        "    plt.title(title)\n",
        "    plt.show()\n",
        "\n",
        "def drop_correlations(df):\n",
        "    # create correlation matrix\n",
        "    corr_matrix = df.corr().abs()\n",
        "    # select upper triangle of correlation matrix\n",
        "    upper = corr_matrix.where(np.triu(np.ones(corr_matrix.shape), k=1).astype(np.bool))\n",
        "    # find features with correlation greater than 0.95\n",
        "    to_drop = [column for column in upper.columns if any(upper[column] > THRESHOLD_CORRELATION)]\n",
        "    df.drop(to_drop, axis=1, inplace=True)\n",
        "    return df\n",
        "\n",
        "#random testing, add things here\n",
        "def do_random_prints_and_testing(CO2_df, CH4_df, N2O_df):\n",
        "    print(\"CO2 columns \", CO2_df.columns)\n",
        "    print(\"CH4 columns \", CH4_df.columns)\n",
        "    print(\"N2O columns \", N2O_df.columns)\n",
        "    print(CO2_df.loc[CO2_df.index[0]])\n",
        "    print(CH4_df.loc[CH4_df.index[0]])\n",
        "    print(N2O_df.loc[N2O_df.index[0]])\n",
        "    visualize_column(CO2_df.iloc[:, 1], str(CO2_df.columns[1]), str(CO2_df.columns[1]) + \" over Time\")\n",
        "    visualize_column(CO2_df.iloc[:, 2], str(CO2_df.columns[2]), str(CO2_df.columns[2]) + \" over Time\")"
      ]
    },
    {
      "cell_type": "code",
      "source": [
        "prod_amt=pd.read_csv('clean_production.csv')\n",
        "prod_amt.drop(columns=['Unnamed: 0'],inplace=True)\n",
        "prod_amt.rename(columns={\"YEAR\":\"Year\"},inplace=True)\n",
        "# prod_amt.set_index('Year',inplace=True)\n",
        "#       prod_amt.drop([2020,2021,2022,2023,2024,2025,2026],axis=0,inplace=True)\n",
        "# prod_amt.index = pd.to_datetime(prod_amt.index, format='%Y')\n",
        "# prod_amt.astype({'Year': 'object'})\n",
        "prod_amt['Year']=prod_amt['Year'].astype(\"str\")\n",
        "# prod_amt.reset_index(drop=True, inplace=True)\n",
        "prod_amt.head(3)"
      ],
      "metadata": {
        "colab": {
          "base_uri": "https://localhost:8080/",
          "height": 207
        },
        "id": "nG1sgdKN4ZOU",
        "outputId": "50817edb-7db5-4c49-d3f5-3330b110157c"
      },
      "execution_count": null,
      "outputs": [
        {
          "output_type": "execute_result",
          "data": {
            "text/plain": [
              "   Year  RICE_TONNE_HA  RICE_THND_TONNE  RICE_THND_HA  WHEAT_TONNE_HA  \\\n",
              "0  1990       4.313679      4928.082909   1142.431401        2.656879   \n",
              "1  1991       4.468591      5029.107031   1125.434547        2.303895   \n",
              "2  1992       4.473428      5669.978799   1267.479684        2.641679   \n",
              "\n",
              "   WHEAT_THND_TONNE  WHEAT_THND_HA  MAIZE_TONNE_HA  MAIZE_THND_TONNE  \\\n",
              "0        74296.9584        27964.0        7.433033        201539.468   \n",
              "1        53890.4016        23391.0        6.819797        189879.950   \n",
              "2        67136.4288        25414.3        8.250576        240734.754   \n",
              "\n",
              "   MAIZE_THND_HA  SOYBEAN_TONNE_HA  SOYBEAN_THND_TONNE  SOYBEAN_THND_HA  \n",
              "0     27114.0290          2.292400          52415.2944     22864.815500  \n",
              "1     27842.4656          2.303380          54064.5840     23471.846000  \n",
              "2     29177.9327          2.529181          59603.0400     23566.138071  "
            ],
            "text/html": [
              "\n",
              "  <div id=\"df-0c7f9d18-afe1-4c22-b55a-a8319783510e\">\n",
              "    <div class=\"colab-df-container\">\n",
              "      <div>\n",
              "<style scoped>\n",
              "    .dataframe tbody tr th:only-of-type {\n",
              "        vertical-align: middle;\n",
              "    }\n",
              "\n",
              "    .dataframe tbody tr th {\n",
              "        vertical-align: top;\n",
              "    }\n",
              "\n",
              "    .dataframe thead th {\n",
              "        text-align: right;\n",
              "    }\n",
              "</style>\n",
              "<table border=\"1\" class=\"dataframe\">\n",
              "  <thead>\n",
              "    <tr style=\"text-align: right;\">\n",
              "      <th></th>\n",
              "      <th>Year</th>\n",
              "      <th>RICE_TONNE_HA</th>\n",
              "      <th>RICE_THND_TONNE</th>\n",
              "      <th>RICE_THND_HA</th>\n",
              "      <th>WHEAT_TONNE_HA</th>\n",
              "      <th>WHEAT_THND_TONNE</th>\n",
              "      <th>WHEAT_THND_HA</th>\n",
              "      <th>MAIZE_TONNE_HA</th>\n",
              "      <th>MAIZE_THND_TONNE</th>\n",
              "      <th>MAIZE_THND_HA</th>\n",
              "      <th>SOYBEAN_TONNE_HA</th>\n",
              "      <th>SOYBEAN_THND_TONNE</th>\n",
              "      <th>SOYBEAN_THND_HA</th>\n",
              "    </tr>\n",
              "  </thead>\n",
              "  <tbody>\n",
              "    <tr>\n",
              "      <th>0</th>\n",
              "      <td>1990</td>\n",
              "      <td>4.313679</td>\n",
              "      <td>4928.082909</td>\n",
              "      <td>1142.431401</td>\n",
              "      <td>2.656879</td>\n",
              "      <td>74296.9584</td>\n",
              "      <td>27964.0</td>\n",
              "      <td>7.433033</td>\n",
              "      <td>201539.468</td>\n",
              "      <td>27114.0290</td>\n",
              "      <td>2.292400</td>\n",
              "      <td>52415.2944</td>\n",
              "      <td>22864.815500</td>\n",
              "    </tr>\n",
              "    <tr>\n",
              "      <th>1</th>\n",
              "      <td>1991</td>\n",
              "      <td>4.468591</td>\n",
              "      <td>5029.107031</td>\n",
              "      <td>1125.434547</td>\n",
              "      <td>2.303895</td>\n",
              "      <td>53890.4016</td>\n",
              "      <td>23391.0</td>\n",
              "      <td>6.819797</td>\n",
              "      <td>189879.950</td>\n",
              "      <td>27842.4656</td>\n",
              "      <td>2.303380</td>\n",
              "      <td>54064.5840</td>\n",
              "      <td>23471.846000</td>\n",
              "    </tr>\n",
              "    <tr>\n",
              "      <th>2</th>\n",
              "      <td>1992</td>\n",
              "      <td>4.473428</td>\n",
              "      <td>5669.978799</td>\n",
              "      <td>1267.479684</td>\n",
              "      <td>2.641679</td>\n",
              "      <td>67136.4288</td>\n",
              "      <td>25414.3</td>\n",
              "      <td>8.250576</td>\n",
              "      <td>240734.754</td>\n",
              "      <td>29177.9327</td>\n",
              "      <td>2.529181</td>\n",
              "      <td>59603.0400</td>\n",
              "      <td>23566.138071</td>\n",
              "    </tr>\n",
              "  </tbody>\n",
              "</table>\n",
              "</div>\n",
              "      <button class=\"colab-df-convert\" onclick=\"convertToInteractive('df-0c7f9d18-afe1-4c22-b55a-a8319783510e')\"\n",
              "              title=\"Convert this dataframe to an interactive table.\"\n",
              "              style=\"display:none;\">\n",
              "        \n",
              "  <svg xmlns=\"http://www.w3.org/2000/svg\" height=\"24px\"viewBox=\"0 0 24 24\"\n",
              "       width=\"24px\">\n",
              "    <path d=\"M0 0h24v24H0V0z\" fill=\"none\"/>\n",
              "    <path d=\"M18.56 5.44l.94 2.06.94-2.06 2.06-.94-2.06-.94-.94-2.06-.94 2.06-2.06.94zm-11 1L8.5 8.5l.94-2.06 2.06-.94-2.06-.94L8.5 2.5l-.94 2.06-2.06.94zm10 10l.94 2.06.94-2.06 2.06-.94-2.06-.94-.94-2.06-.94 2.06-2.06.94z\"/><path d=\"M17.41 7.96l-1.37-1.37c-.4-.4-.92-.59-1.43-.59-.52 0-1.04.2-1.43.59L10.3 9.45l-7.72 7.72c-.78.78-.78 2.05 0 2.83L4 21.41c.39.39.9.59 1.41.59.51 0 1.02-.2 1.41-.59l7.78-7.78 2.81-2.81c.8-.78.8-2.07 0-2.86zM5.41 20L4 18.59l7.72-7.72 1.47 1.35L5.41 20z\"/>\n",
              "  </svg>\n",
              "      </button>\n",
              "      \n",
              "  <style>\n",
              "    .colab-df-container {\n",
              "      display:flex;\n",
              "      flex-wrap:wrap;\n",
              "      gap: 12px;\n",
              "    }\n",
              "\n",
              "    .colab-df-convert {\n",
              "      background-color: #E8F0FE;\n",
              "      border: none;\n",
              "      border-radius: 50%;\n",
              "      cursor: pointer;\n",
              "      display: none;\n",
              "      fill: #1967D2;\n",
              "      height: 32px;\n",
              "      padding: 0 0 0 0;\n",
              "      width: 32px;\n",
              "    }\n",
              "\n",
              "    .colab-df-convert:hover {\n",
              "      background-color: #E2EBFA;\n",
              "      box-shadow: 0px 1px 2px rgba(60, 64, 67, 0.3), 0px 1px 3px 1px rgba(60, 64, 67, 0.15);\n",
              "      fill: #174EA6;\n",
              "    }\n",
              "\n",
              "    [theme=dark] .colab-df-convert {\n",
              "      background-color: #3B4455;\n",
              "      fill: #D2E3FC;\n",
              "    }\n",
              "\n",
              "    [theme=dark] .colab-df-convert:hover {\n",
              "      background-color: #434B5C;\n",
              "      box-shadow: 0px 1px 3px 1px rgba(0, 0, 0, 0.15);\n",
              "      filter: drop-shadow(0px 1px 2px rgba(0, 0, 0, 0.3));\n",
              "      fill: #FFFFFF;\n",
              "    }\n",
              "  </style>\n",
              "\n",
              "      <script>\n",
              "        const buttonEl =\n",
              "          document.querySelector('#df-0c7f9d18-afe1-4c22-b55a-a8319783510e button.colab-df-convert');\n",
              "        buttonEl.style.display =\n",
              "          google.colab.kernel.accessAllowed ? 'block' : 'none';\n",
              "\n",
              "        async function convertToInteractive(key) {\n",
              "          const element = document.querySelector('#df-0c7f9d18-afe1-4c22-b55a-a8319783510e');\n",
              "          const dataTable =\n",
              "            await google.colab.kernel.invokeFunction('convertToInteractive',\n",
              "                                                     [key], {});\n",
              "          if (!dataTable) return;\n",
              "\n",
              "          const docLinkHtml = 'Like what you see? Visit the ' +\n",
              "            '<a target=\"_blank\" href=https://colab.research.google.com/notebooks/data_table.ipynb>data table notebook</a>'\n",
              "            + ' to learn more about interactive tables.';\n",
              "          element.innerHTML = '';\n",
              "          dataTable['output_type'] = 'display_data';\n",
              "          await google.colab.output.renderOutput(dataTable, element);\n",
              "          const docLink = document.createElement('div');\n",
              "          docLink.innerHTML = docLinkHtml;\n",
              "          element.appendChild(docLink);\n",
              "        }\n",
              "      </script>\n",
              "    </div>\n",
              "  </div>\n",
              "  "
            ]
          },
          "metadata": {},
          "execution_count": 3
        }
      ]
    },
    {
      "cell_type": "code",
      "source": [
        "\n",
        "import pandas as pd\n",
        "\n",
        "df = pd.read_csv('FAOSTAT_data_1961_2019.csv')\n",
        "cleaned_df = clean_FAOSTAT(df)\n",
        "\n",
        "#create an emission activity and emission type list. Each value is a tuple, 0th -> activity, 1st -> type of emission\n",
        "emission_activity_and_type = list(cleaned_df.groupby(['Activity','Element']).indices.keys())\n",
        "\n",
        "'''Anthropogenic climate change is caused by multiple climate pollutants, with CO2, CH4, and N2O the three largest individual contributors to global warming. Agriculture and food production is associated with all three of these gases, but direct agricultural emissions are unusual in being dominated by CH4 and N2O.'''\n",
        "\n",
        "#filter the emissions list to only contain the biggest contributers to argiculture\n",
        "CO2_gas_list = list_emissions(\"CO2\", emission_activity_and_type)\n",
        "CH4_gas_list = list_emissions(\"CH4\", emission_activity_and_type)\n",
        "N2O_gas_list = list_emissions(\"N2O\", emission_activity_and_type)\n",
        "\n",
        "#Because Area and Unit are the same value in every row (USA, Kilotonnes respectively), I will drop those. Set the column indicies to Activity\n",
        "CO2_df = create_emission_df(cleaned_df, CO2_gas_list)\n",
        "CH4_df = create_emission_df(cleaned_df, CH4_gas_list)\n",
        "N2O_df = create_emission_df(cleaned_df, N2O_gas_list)\n",
        "\n",
        "#filter the emissions list to only contain the biggest contributers to argiculture\n",
        "CO2_df = create_emissions_frame(['Activity', 'Element'], CO2_df)\n",
        "CH4_df = create_emissions_frame(['Activity', 'Element'], CH4_df)\n",
        "N2O_df = create_emissions_frame(['Activity', 'Element'], N2O_df)\n",
        "\n",
        "#drop highly correlated features\n",
        "CO2_df = drop_correlations(CO2_df)\n",
        "CH4_df = drop_correlations(CH4_df)\n",
        "N2O_df = drop_correlations(N2O_df)\n",
        "\n",
        "# #focus on agriculture\n",
        "# CO2_df = keep_agriculture_data(CO2_df)\n",
        "# CH4_df = keep_agriculture_data(CH4_df)\n",
        "# N2O_df = keep_agriculture_data(N2O_df)\n",
        "\n",
        "#the features that remain are not related to forests and fires but agrivulture\n",
        "#all features have a correlation less than abs(THRESHOLD_CORRELATION)\n",
        "CO2_df = remove_fire_data(CO2_df)\n",
        "CH4_df = remove_fire_data(CH4_df)\n",
        "N2O_df = remove_fire_data(N2O_df)\n",
        "do_random_prints_and_testing(CO2_df, CH4_df, N2O_df)"
      ],
      "metadata": {
        "id": "rtDw6edL22Ss",
        "colab": {
          "base_uri": "https://localhost:8080/",
          "height": 1000
        },
        "outputId": "24b4ddf4-7b9a-43fa-942c-8b26dede224b"
      },
      "execution_count": null,
      "outputs": [
        {
          "output_type": "stream",
          "name": "stderr",
          "text": [
            "<ipython-input-2-0246aa8b0dad>:83: DeprecationWarning: `np.bool` is a deprecated alias for the builtin `bool`. To silence this warning, use `bool` by itself. Doing this will not modify any behavior and is safe. If you specifically wanted the numpy scalar type, use `np.bool_` here.\n",
            "Deprecated in NumPy 1.20; for more details and guidance: https://numpy.org/devdocs/release/1.20.0-notes.html#deprecations\n",
            "  upper = corr_matrix.where(np.triu(np.ones(corr_matrix.shape), k=1).astype(np.bool))\n",
            "<ipython-input-2-0246aa8b0dad>:73: MatplotlibDeprecationWarning: Adding an axes using the same arguments as a previous axes currently reuses the earlier instance.  In a future version, a new instance will always be created and returned.  Meanwhile, this warning can be suppressed, and the future behavior ensured, by passing a unique label to each axes instance.\n",
            "  axes = plt.axes()\n"
          ]
        },
        {
          "output_type": "stream",
          "name": "stdout",
          "text": [
            "CO2 columns  Index(['Enteric Fermentation_Emissions (CO2eq) from CH4 (AR5)',\n",
            "       'Manure Management_Emissions (CO2eq) from CH4 (AR5)',\n",
            "       'Manure Management_Emissions (CO2eq) from N2O (AR5)',\n",
            "       'Rice Cultivation_Emissions (CO2eq) from CH4 (AR5)',\n",
            "       'Synthetic Fertilizers_Emissions (CO2eq) from N2O (AR5)',\n",
            "       'Manure applied to Soils_Emissions (CO2eq) from N2O (AR5)',\n",
            "       'Crop Residues_Emissions (CO2eq) from N2O (AR5)',\n",
            "       'On-farm energy use_Emissions (CO2)',\n",
            "       'On-farm energy use_Emissions (CO2eq) from CH4 (AR5)',\n",
            "       'On-farm energy use_Emissions (CO2eq) from N2O (AR5)',\n",
            "       'IPCC Agriculture_Emissions (CO2eq) from N2O (AR5)',\n",
            "       'IPCC Agriculture_Emissions (CO2eq) (AR5)', 'LULUCF_Emissions (CO2)',\n",
            "       'AFOLU_Emissions (CO2eq) from CH4 (AR5)',\n",
            "       'Emissions on agricultural land_Emissions (CO2)',\n",
            "       'Farm-gate emissions_Emissions (CO2eq) (AR5)'],\n",
            "      dtype='object', name='Emission')\n",
            "CH4 columns  Index(['Enteric Fermentation_Emissions (CH4)',\n",
            "       'Manure Management_Emissions (CH4)', 'Rice Cultivation_Emissions (CH4)',\n",
            "       'On-farm energy use_Emissions (CH4)', 'AFOLU_Emissions (CH4)'],\n",
            "      dtype='object', name='Emission')\n",
            "N2O columns  Index(['Manure Management_Emissions (N2O)',\n",
            "       'Synthetic Fertilizers_Direct emissions (N2O)',\n",
            "       'Manure applied to Soils_Direct emissions (N2O)',\n",
            "       'Manure left on Pasture_Direct emissions (N2O)',\n",
            "       'Crop Residues_Direct emissions (N2O)',\n",
            "       'Drained organic soils (N2O)_Emissions (N2O)',\n",
            "       'On-farm energy use_Emissions (N2O)',\n",
            "       'IPCC Agriculture_Direct emissions (N2O)'],\n",
            "      dtype='object', name='Emission')\n",
            "Emission\n",
            "Enteric Fermentation_Emissions (CO2eq) from CH4 (AR5)       170822.9880\n",
            "Manure Management_Emissions (CO2eq) from CH4 (AR5)           34876.1432\n",
            "Manure Management_Emissions (CO2eq) from N2O (AR5)           12148.5592\n",
            "Rice Cultivation_Emissions (CO2eq) from CH4 (AR5)            11195.5200\n",
            "Synthetic Fertilizers_Emissions (CO2eq) from N2O (AR5)       56149.3898\n",
            "Manure applied to Soils_Emissions (CO2eq) from N2O (AR5)     13156.7724\n",
            "Crop Residues_Emissions (CO2eq) from N2O (AR5)               19193.1314\n",
            "On-farm energy use_Emissions (CO2)                           50419.3420\n",
            "On-farm energy use_Emissions (CO2eq) from CH4 (AR5)            575.1024\n",
            "On-farm energy use_Emissions (CO2eq) from N2O (AR5)           3460.2557\n",
            "IPCC Agriculture_Emissions (CO2eq) from N2O (AR5)           143043.4280\n",
            "IPCC Agriculture_Emissions (CO2eq) (AR5)                    363642.0492\n",
            "LULUCF_Emissions (CO2)                                     -345907.2702\n",
            "AFOLU_Emissions (CO2eq) from CH4 (AR5)                      245765.2810\n",
            "Emissions on agricultural land_Emissions (CO2)              225085.2312\n",
            "Farm-gate emissions_Emissions (CO2eq) (AR5)                 459005.2738\n",
            "Name: 1990, dtype: float64\n",
            "Emission\n",
            "Enteric Fermentation_Emissions (CH4)    6100.8210\n",
            "Manure Management_Emissions (CH4)       1245.5765\n",
            "Rice Cultivation_Emissions (CH4)         399.8400\n",
            "On-farm energy use_Emissions (CH4)        20.5394\n",
            "AFOLU_Emissions (CH4)                   8777.3315\n",
            "Name: 1990, dtype: float64\n",
            "Emission\n",
            "Manure Management_Emissions (N2O)                  45.8436\n",
            "Synthetic Fertilizers_Direct emissions (N2O)      159.9128\n",
            "Manure applied to Soils_Direct emissions (N2O)     34.8408\n",
            "Manure left on Pasture_Direct emissions (N2O)     104.7639\n",
            "Crop Residues_Direct emissions (N2O)               59.1240\n",
            "Drained organic soils (N2O)_Emissions (N2O)        26.8526\n",
            "On-farm energy use_Emissions (N2O)                 13.0576\n",
            "IPCC Agriculture_Direct emissions (N2O)           358.6416\n",
            "Name: 1990, dtype: float64\n"
          ]
        },
        {
          "output_type": "display_data",
          "data": {
            "text/plain": [
              "<Figure size 432x288 with 1 Axes>"
            ],
            "image/png": "[encoded data removed]"
          },
          "metadata": {
            "needs_background": "light"
          }
        },
        {
          "output_type": "stream",
          "name": "stderr",
          "text": [
            "<ipython-input-2-0246aa8b0dad>:73: MatplotlibDeprecationWarning: Adding an axes using the same arguments as a previous axes currently reuses the earlier instance.  In a future version, a new instance will always be created and returned.  Meanwhile, this warning can be suppressed, and the future behavior ensured, by passing a unique label to each axes instance.\n",
            "  axes = plt.axes()\n"
          ]
        },
        {
          "output_type": "display_data",
          "data": {
            "text/plain": [
              "<Figure size 432x288 with 1 Axes>"
            ],
            "image/png": "[encoded data removed]"
          },
          "metadata": {
            "needs_background": "light"
          }
        }
      ]
    },
    {
      "cell_type": "code",
      "source": [
        "from sklearn import preprocessing, svm\n",
        "from sklearn.model_selection import train_test_split\n",
        "from sklearn.linear_model import LinearRegression\n",
        "\n",
        "#df_all_data = pd.merge(df_dow, df_headlines, on='Date')\n",
        "prod_amt=prod_amt.merge(CO2_df,on='Year')"
      ],
      "metadata": {
        "id": "AM1V8stB__iA"
      },
      "execution_count": null,
      "outputs": []
    },
    {
      "cell_type": "code",
      "source": [
        "prod_amt.head(1)"
      ],
      "metadata": {
        "colab": {
          "base_uri": "https://localhost:8080/",
          "height": 243
        },
        "id": "gNb-Fu73BBuj",
        "outputId": "19462cdc-6cd8-44ae-e091-47d05aacc0b7"
      },
      "execution_count": null,
      "outputs": [
        {
          "output_type": "execute_result",
          "data": {
            "text/plain": [
              "   Year  RICE_TONNE_HA  RICE_THND_TONNE  RICE_THND_HA  WHEAT_TONNE_HA  \\\n",
              "0  1990       4.313679      4928.082909   1142.431401        2.656879   \n",
              "\n",
              "   WHEAT_THND_TONNE  WHEAT_THND_HA  MAIZE_TONNE_HA  MAIZE_THND_TONNE  \\\n",
              "0        74296.9584        27964.0        7.433033        201539.468   \n",
              "\n",
              "   MAIZE_THND_HA  ...  Crop Residues_Emissions (CO2eq) from N2O (AR5)  \\\n",
              "0      27114.029  ...                                      19193.1314   \n",
              "\n",
              "   On-farm energy use_Emissions (CO2)  \\\n",
              "0                           50419.342   \n",
              "\n",
              "   On-farm energy use_Emissions (CO2eq) from CH4 (AR5)  \\\n",
              "0                                           575.1024     \n",
              "\n",
              "   On-farm energy use_Emissions (CO2eq) from N2O (AR5)  \\\n",
              "0                                          3460.2557     \n",
              "\n",
              "   IPCC Agriculture_Emissions (CO2eq) from N2O (AR5)  \\\n",
              "0                                         143043.428   \n",
              "\n",
              "   IPCC Agriculture_Emissions (CO2eq) (AR5)  LULUCF_Emissions (CO2)  \\\n",
              "0                               363642.0492            -345907.2702   \n",
              "\n",
              "   AFOLU_Emissions (CO2eq) from CH4 (AR5)  \\\n",
              "0                              245765.281   \n",
              "\n",
              "   Emissions on agricultural land_Emissions (CO2)  \\\n",
              "0                                     225085.2312   \n",
              "\n",
              "   Farm-gate emissions_Emissions (CO2eq) (AR5)  \n",
              "0                                  459005.2738  \n",
              "\n",
              "[1 rows x 29 columns]"
            ],
            "text/html": [
              "\n",
              "  <div id=\"df-bec441bf-0951-445e-996d-3ab909ccff39\">\n",
              "    <div class=\"colab-df-container\">\n",
              "      <div>\n",
              "<style scoped>\n",
              "    .dataframe tbody tr th:only-of-type {\n",
              "        vertical-align: middle;\n",
              "    }\n",
              "\n",
              "    .dataframe tbody tr th {\n",
              "        vertical-align: top;\n",
              "    }\n",
              "\n",
              "    .dataframe thead th {\n",
              "        text-align: right;\n",
              "    }\n",
              "</style>\n",
              "<table border=\"1\" class=\"dataframe\">\n",
              "  <thead>\n",
              "    <tr style=\"text-align: right;\">\n",
              "      <th></th>\n",
              "      <th>Year</th>\n",
              "      <th>RICE_TONNE_HA</th>\n",
              "      <th>RICE_THND_TONNE</th>\n",
              "      <th>RICE_THND_HA</th>\n",
              "      <th>WHEAT_TONNE_HA</th>\n",
              "      <th>WHEAT_THND_TONNE</th>\n",
              "      <th>WHEAT_THND_HA</th>\n",
              "      <th>MAIZE_TONNE_HA</th>\n",
              "      <th>MAIZE_THND_TONNE</th>\n",
              "      <th>MAIZE_THND_HA</th>\n",
              "      <th>...</th>\n",
              "      <th>Crop Residues_Emissions (CO2eq) from N2O (AR5)</th>\n",
              "      <th>On-farm energy use_Emissions (CO2)</th>\n",
              "      <th>On-farm energy use_Emissions (CO2eq) from CH4 (AR5)</th>\n",
              "      <th>On-farm energy use_Emissions (CO2eq) from N2O (AR5)</th>\n",
              "      <th>IPCC Agriculture_Emissions (CO2eq) from N2O (AR5)</th>\n",
              "      <th>IPCC Agriculture_Emissions (CO2eq) (AR5)</th>\n",
              "      <th>LULUCF_Emissions (CO2)</th>\n",
              "      <th>AFOLU_Emissions (CO2eq) from CH4 (AR5)</th>\n",
              "      <th>Emissions on agricultural land_Emissions (CO2)</th>\n",
              "      <th>Farm-gate emissions_Emissions (CO2eq) (AR5)</th>\n",
              "    </tr>\n",
              "  </thead>\n",
              "  <tbody>\n",
              "    <tr>\n",
              "      <th>0</th>\n",
              "      <td>1990</td>\n",
              "      <td>4.313679</td>\n",
              "      <td>4928.082909</td>\n",
              "      <td>1142.431401</td>\n",
              "      <td>2.656879</td>\n",
              "      <td>74296.9584</td>\n",
              "      <td>27964.0</td>\n",
              "      <td>7.433033</td>\n",
              "      <td>201539.468</td>\n",
              "      <td>27114.029</td>\n",
              "      <td>...</td>\n",
              "      <td>19193.1314</td>\n",
              "      <td>50419.342</td>\n",
              "      <td>575.1024</td>\n",
              "      <td>3460.2557</td>\n",
              "      <td>143043.428</td>\n",
              "      <td>363642.0492</td>\n",
              "      <td>-345907.2702</td>\n",
              "      <td>245765.281</td>\n",
              "      <td>225085.2312</td>\n",
              "      <td>459005.2738</td>\n",
              "    </tr>\n",
              "  </tbody>\n",
              "</table>\n",
              "<p>1 rows × 29 columns</p>\n",
              "</div>\n",
              "      <button class=\"colab-df-convert\" onclick=\"convertToInteractive('df-bec441bf-0951-445e-996d-3ab909ccff39')\"\n",
              "              title=\"Convert this dataframe to an interactive table.\"\n",
              "              style=\"display:none;\">\n",
              "        \n",
              "  <svg xmlns=\"http://www.w3.org/2000/svg\" height=\"24px\"viewBox=\"0 0 24 24\"\n",
              "       width=\"24px\">\n",
              "    <path d=\"M0 0h24v24H0V0z\" fill=\"none\"/>\n",
              "    <path d=\"M18.56 5.44l.94 2.06.94-2.06 2.06-.94-2.06-.94-.94-2.06-.94 2.06-2.06.94zm-11 1L8.5 8.5l.94-2.06 2.06-.94-2.06-.94L8.5 2.5l-.94 2.06-2.06.94zm10 10l.94 2.06.94-2.06 2.06-.94-2.06-.94-.94-2.06-.94 2.06-2.06.94z\"/><path d=\"M17.41 7.96l-1.37-1.37c-.4-.4-.92-.59-1.43-.59-.52 0-1.04.2-1.43.59L10.3 9.45l-7.72 7.72c-.78.78-.78 2.05 0 2.83L4 21.41c.39.39.9.59 1.41.59.51 0 1.02-.2 1.41-.59l7.78-7.78 2.81-2.81c.8-.78.8-2.07 0-2.86zM5.41 20L4 18.59l7.72-7.72 1.47 1.35L5.41 20z\"/>\n",
              "  </svg>\n",
              "      </button>\n",
              "      \n",
              "  <style>\n",
              "    .colab-df-container {\n",
              "      display:flex;\n",
              "      flex-wrap:wrap;\n",
              "      gap: 12px;\n",
              "    }\n",
              "\n",
              "    .colab-df-convert {\n",
              "      background-color: #E8F0FE;\n",
              "      border: none;\n",
              "      border-radius: 50%;\n",
              "      cursor: pointer;\n",
              "      display: none;\n",
              "      fill: #1967D2;\n",
              "      height: 32px;\n",
              "      padding: 0 0 0 0;\n",
              "      width: 32px;\n",
              "    }\n",
              "\n",
              "    .colab-df-convert:hover {\n",
              "      background-color: #E2EBFA;\n",
              "      box-shadow: 0px 1px 2px rgba(60, 64, 67, 0.3), 0px 1px 3px 1px rgba(60, 64, 67, 0.15);\n",
              "      fill: #174EA6;\n",
              "    }\n",
              "\n",
              "    [theme=dark] .colab-df-convert {\n",
              "      background-color: #3B4455;\n",
              "      fill: #D2E3FC;\n",
              "    }\n",
              "\n",
              "    [theme=dark] .colab-df-convert:hover {\n",
              "      background-color: #434B5C;\n",
              "      box-shadow: 0px 1px 3px 1px rgba(0, 0, 0, 0.15);\n",
              "      filter: drop-shadow(0px 1px 2px rgba(0, 0, 0, 0.3));\n",
              "      fill: #FFFFFF;\n",
              "    }\n",
              "  </style>\n",
              "\n",
              "      <script>\n",
              "        const buttonEl =\n",
              "          document.querySelector('#df-bec441bf-0951-445e-996d-3ab909ccff39 button.colab-df-convert');\n",
              "        buttonEl.style.display =\n",
              "          google.colab.kernel.accessAllowed ? 'block' : 'none';\n",
              "\n",
              "        async function convertToInteractive(key) {\n",
              "          const element = document.querySelector('#df-bec441bf-0951-445e-996d-3ab909ccff39');\n",
              "          const dataTable =\n",
              "            await google.colab.kernel.invokeFunction('convertToInteractive',\n",
              "                                                     [key], {});\n",
              "          if (!dataTable) return;\n",
              "\n",
              "          const docLinkHtml = 'Like what you see? Visit the ' +\n",
              "            '<a target=\"_blank\" href=https://colab.research.google.com/notebooks/data_table.ipynb>data table notebook</a>'\n",
              "            + ' to learn more about interactive tables.';\n",
              "          element.innerHTML = '';\n",
              "          dataTable['output_type'] = 'display_data';\n",
              "          await google.colab.output.renderOutput(dataTable, element);\n",
              "          const docLink = document.createElement('div');\n",
              "          docLink.innerHTML = docLinkHtml;\n",
              "          element.appendChild(docLink);\n",
              "        }\n",
              "      </script>\n",
              "    </div>\n",
              "  </div>\n",
              "  "
            ]
          },
          "metadata": {},
          "execution_count": 7
        }
      ]
    },
    {
      "cell_type": "code",
      "source": [
        "#drop last three years so all data matches\n",
        "CO2_df.drop(CO2_df.tail(3).index,inplace=True)\n",
        "CH4_df.drop(CH4_df.tail(3).index,inplace=True)\n",
        "N2O_df.drop(N2O_df.tail(3).index,inplace=True)\n",
        "#splitting the data\n",
        "from sklearn.model_selection import train_test_split\n",
        "CO2_df = CO2_df.reset_index(drop=False)\n",
        "\n",
        "c02_prod=pd.merge(prod_amt, CO2_df, left_index=True, right_index=True)\n",
        "# prod_amt.merge(N2O_df, on=\"Year\")"
      ],
      "metadata": {
        "id": "gUiF23KABt72"
      },
      "execution_count": null,
      "outputs": []
    },
    {
      "cell_type": "code",
      "source": [
        "CH4_df = CH4_df.reset_index(drop=False)\n",
        "ch4_prod=pd.merge(prod_amt, CH4_df, left_index=True, right_index=True)"
      ],
      "metadata": {
        "id": "TORh8Z8JMKpS"
      },
      "execution_count": null,
      "outputs": []
    },
    {
      "cell_type": "code",
      "source": [
        "N2O_df = N2O_df.reset_index(drop=False)\n",
        "n20_prod=pd.merge(prod_amt, N2O_df, left_index=True, right_index=True)"
      ],
      "metadata": {
        "id": "rJlLxgjsM9Uk"
      },
      "execution_count": null,
      "outputs": []
    },
    {
      "cell_type": "code",
      "source": [
        "# c02_prod.drop(columns=['level_0','Year_y','index'],inplace=True) #done\n",
        "c02_prod.drop(columns=['Year_y'],inplace=True)"
      ],
      "metadata": {
        "id": "HqwNEKrfJtCE"
      },
      "execution_count": null,
      "outputs": []
    },
    {
      "cell_type": "code",
      "source": [
        "c02_prod.iloc[:,13:].head(2)"
      ],
      "metadata": {
        "colab": {
          "base_uri": "https://localhost:8080/",
          "height": 275
        },
        "id": "l3zb1TWNnzop",
        "outputId": "8eb09f2d-1c5d-436a-e350-92669d3da042"
      },
      "execution_count": null,
      "outputs": [
        {
          "output_type": "execute_result",
          "data": {
            "text/plain": [
              "   Enteric Fermentation_Emissions (CO2eq) from CH4 (AR5)_x  \\\n",
              "0                                         170822.988         \n",
              "1                                         171455.046         \n",
              "\n",
              "   Manure Management_Emissions (CO2eq) from CH4 (AR5)_x  \\\n",
              "0                                         34876.1432      \n",
              "1                                         35903.5113      \n",
              "\n",
              "   Manure Management_Emissions (CO2eq) from N2O (AR5)_x  \\\n",
              "0                                         12148.5592      \n",
              "1                                         12302.5338      \n",
              "\n",
              "   Rice Cultivation_Emissions (CO2eq) from CH4 (AR5)_x  \\\n",
              "0                                          11195.520     \n",
              "1                                          11029.312     \n",
              "\n",
              "   Synthetic Fertilizers_Emissions (CO2eq) from N2O (AR5)_x  \\\n",
              "0                                         56149.3898          \n",
              "1                                         57032.6889          \n",
              "\n",
              "   Manure applied to Soils_Emissions (CO2eq) from N2O (AR5)_x  \\\n",
              "0                                         13156.7724            \n",
              "1                                         13370.9850            \n",
              "\n",
              "   Crop Residues_Emissions (CO2eq) from N2O (AR5)_x  \\\n",
              "0                                        19193.1314   \n",
              "1                                        17574.1126   \n",
              "\n",
              "   On-farm energy use_Emissions (CO2)_x  \\\n",
              "0                            50419.3420   \n",
              "1                            50510.0919   \n",
              "\n",
              "   On-farm energy use_Emissions (CO2eq) from CH4 (AR5)_x  \\\n",
              "0                                           575.1024       \n",
              "1                                           570.3426       \n",
              "\n",
              "   On-farm energy use_Emissions (CO2eq) from N2O (AR5)_x  ...  \\\n",
              "0                                          3460.2557      ...   \n",
              "1                                          3485.1641      ...   \n",
              "\n",
              "   Crop Residues_Emissions (CO2eq) from N2O (AR5)_y  \\\n",
              "0                                        19193.1314   \n",
              "1                                        17574.1126   \n",
              "\n",
              "   On-farm energy use_Emissions (CO2)_y  \\\n",
              "0                            50419.3420   \n",
              "1                            50510.0919   \n",
              "\n",
              "   On-farm energy use_Emissions (CO2eq) from CH4 (AR5)_y  \\\n",
              "0                                           575.1024       \n",
              "1                                           570.3426       \n",
              "\n",
              "   On-farm energy use_Emissions (CO2eq) from N2O (AR5)_y  \\\n",
              "0                                          3460.2557       \n",
              "1                                          3485.1641       \n",
              "\n",
              "   IPCC Agriculture_Emissions (CO2eq) from N2O (AR5)_y  \\\n",
              "0                                        143043.4280     \n",
              "1                                        142908.1249     \n",
              "\n",
              "   IPCC Agriculture_Emissions (CO2eq) (AR5)_y  LULUCF_Emissions (CO2)_y  \\\n",
              "0                                 363642.0492              -345907.2702   \n",
              "1                                 364920.2282              -345907.2702   \n",
              "\n",
              "   AFOLU_Emissions (CO2eq) from CH4 (AR5)_y  \\\n",
              "0                               245765.2810   \n",
              "1                               247178.7631   \n",
              "\n",
              "   Emissions on agricultural land_Emissions (CO2)_y  \\\n",
              "0                                       225085.2312   \n",
              "1                                       225175.9811   \n",
              "\n",
              "   Farm-gate emissions_Emissions (CO2eq) (AR5)_y  \n",
              "0                                    459005.2738  \n",
              "1                                    460394.3514  \n",
              "\n",
              "[2 rows x 32 columns]"
            ],
            "text/html": [
              "\n",
              "  <div id=\"df-1cca9742-fd2f-48c5-9c5c-9d5ac2041bf9\">\n",
              "    <div class=\"colab-df-container\">\n",
              "      <div>\n",
              "<style scoped>\n",
              "    .dataframe tbody tr th:only-of-type {\n",
              "        vertical-align: middle;\n",
              "    }\n",
              "\n",
              "    .dataframe tbody tr th {\n",
              "        vertical-align: top;\n",
              "    }\n",
              "\n",
              "    .dataframe thead th {\n",
              "        text-align: right;\n",
              "    }\n",
              "</style>\n",
              "<table border=\"1\" class=\"dataframe\">\n",
              "  <thead>\n",
              "    <tr style=\"text-align: right;\">\n",
              "      <th></th>\n",
              "      <th>Enteric Fermentation_Emissions (CO2eq) from CH4 (AR5)_x</th>\n",
              "      <th>Manure Management_Emissions (CO2eq) from CH4 (AR5)_x</th>\n",
              "      <th>Manure Management_Emissions (CO2eq) from N2O (AR5)_x</th>\n",
              "      <th>Rice Cultivation_Emissions (CO2eq) from CH4 (AR5)_x</th>\n",
              "      <th>Synthetic Fertilizers_Emissions (CO2eq) from N2O (AR5)_x</th>\n",
              "      <th>Manure applied to Soils_Emissions (CO2eq) from N2O (AR5)_x</th>\n",
              "      <th>Crop Residues_Emissions (CO2eq) from N2O (AR5)_x</th>\n",
              "      <th>On-farm energy use_Emissions (CO2)_x</th>\n",
              "      <th>On-farm energy use_Emissions (CO2eq) from CH4 (AR5)_x</th>\n",
              "      <th>On-farm energy use_Emissions (CO2eq) from N2O (AR5)_x</th>\n",
              "      <th>...</th>\n",
              "      <th>Crop Residues_Emissions (CO2eq) from N2O (AR5)_y</th>\n",
              "      <th>On-farm energy use_Emissions (CO2)_y</th>\n",
              "      <th>On-farm energy use_Emissions (CO2eq) from CH4 (AR5)_y</th>\n",
              "      <th>On-farm energy use_Emissions (CO2eq) from N2O (AR5)_y</th>\n",
              "      <th>IPCC Agriculture_Emissions (CO2eq) from N2O (AR5)_y</th>\n",
              "      <th>IPCC Agriculture_Emissions (CO2eq) (AR5)_y</th>\n",
              "      <th>LULUCF_Emissions (CO2)_y</th>\n",
              "      <th>AFOLU_Emissions (CO2eq) from CH4 (AR5)_y</th>\n",
              "      <th>Emissions on agricultural land_Emissions (CO2)_y</th>\n",
              "      <th>Farm-gate emissions_Emissions (CO2eq) (AR5)_y</th>\n",
              "    </tr>\n",
              "  </thead>\n",
              "  <tbody>\n",
              "    <tr>\n",
              "      <th>0</th>\n",
              "      <td>170822.988</td>\n",
              "      <td>34876.1432</td>\n",
              "      <td>12148.5592</td>\n",
              "      <td>11195.520</td>\n",
              "      <td>56149.3898</td>\n",
              "      <td>13156.7724</td>\n",
              "      <td>19193.1314</td>\n",
              "      <td>50419.3420</td>\n",
              "      <td>575.1024</td>\n",
              "      <td>3460.2557</td>\n",
              "      <td>...</td>\n",
              "      <td>19193.1314</td>\n",
              "      <td>50419.3420</td>\n",
              "      <td>575.1024</td>\n",
              "      <td>3460.2557</td>\n",
              "      <td>143043.4280</td>\n",
              "      <td>363642.0492</td>\n",
              "      <td>-345907.2702</td>\n",
              "      <td>245765.2810</td>\n",
              "      <td>225085.2312</td>\n",
              "      <td>459005.2738</td>\n",
              "    </tr>\n",
              "    <tr>\n",
              "      <th>1</th>\n",
              "      <td>171455.046</td>\n",
              "      <td>35903.5113</td>\n",
              "      <td>12302.5338</td>\n",
              "      <td>11029.312</td>\n",
              "      <td>57032.6889</td>\n",
              "      <td>13370.9850</td>\n",
              "      <td>17574.1126</td>\n",
              "      <td>50510.0919</td>\n",
              "      <td>570.3426</td>\n",
              "      <td>3485.1641</td>\n",
              "      <td>...</td>\n",
              "      <td>17574.1126</td>\n",
              "      <td>50510.0919</td>\n",
              "      <td>570.3426</td>\n",
              "      <td>3485.1641</td>\n",
              "      <td>142908.1249</td>\n",
              "      <td>364920.2282</td>\n",
              "      <td>-345907.2702</td>\n",
              "      <td>247178.7631</td>\n",
              "      <td>225175.9811</td>\n",
              "      <td>460394.3514</td>\n",
              "    </tr>\n",
              "  </tbody>\n",
              "</table>\n",
              "<p>2 rows × 32 columns</p>\n",
              "</div>\n",
              "      <button class=\"colab-df-convert\" onclick=\"convertToInteractive('df-1cca9742-fd2f-48c5-9c5c-9d5ac2041bf9')\"\n",
              "              title=\"Convert this dataframe to an interactive table.\"\n",
              "              style=\"display:none;\">\n",
              "        \n",
              "  <svg xmlns=\"http://www.w3.org/2000/svg\" height=\"24px\"viewBox=\"0 0 24 24\"\n",
              "       width=\"24px\">\n",
              "    <path d=\"M0 0h24v24H0V0z\" fill=\"none\"/>\n",
              "    <path d=\"M18.56 5.44l.94 2.06.94-2.06 2.06-.94-2.06-.94-.94-2.06-.94 2.06-2.06.94zm-11 1L8.5 8.5l.94-2.06 2.06-.94-2.06-.94L8.5 2.5l-.94 2.06-2.06.94zm10 10l.94 2.06.94-2.06 2.06-.94-2.06-.94-.94-2.06-.94 2.06-2.06.94z\"/><path d=\"M17.41 7.96l-1.37-1.37c-.4-.4-.92-.59-1.43-.59-.52 0-1.04.2-1.43.59L10.3 9.45l-7.72 7.72c-.78.78-.78 2.05 0 2.83L4 21.41c.39.39.9.59 1.41.59.51 0 1.02-.2 1.41-.59l7.78-7.78 2.81-2.81c.8-.78.8-2.07 0-2.86zM5.41 20L4 18.59l7.72-7.72 1.47 1.35L5.41 20z\"/>\n",
              "  </svg>\n",
              "      </button>\n",
              "      \n",
              "  <style>\n",
              "    .colab-df-container {\n",
              "      display:flex;\n",
              "      flex-wrap:wrap;\n",
              "      gap: 12px;\n",
              "    }\n",
              "\n",
              "    .colab-df-convert {\n",
              "      background-color: #E8F0FE;\n",
              "      border: none;\n",
              "      border-radius: 50%;\n",
              "      cursor: pointer;\n",
              "      display: none;\n",
              "      fill: #1967D2;\n",
              "      height: 32px;\n",
              "      padding: 0 0 0 0;\n",
              "      width: 32px;\n",
              "    }\n",
              "\n",
              "    .colab-df-convert:hover {\n",
              "      background-color: #E2EBFA;\n",
              "      box-shadow: 0px 1px 2px rgba(60, 64, 67, 0.3), 0px 1px 3px 1px rgba(60, 64, 67, 0.15);\n",
              "      fill: #174EA6;\n",
              "    }\n",
              "\n",
              "    [theme=dark] .colab-df-convert {\n",
              "      background-color: #3B4455;\n",
              "      fill: #D2E3FC;\n",
              "    }\n",
              "\n",
              "    [theme=dark] .colab-df-convert:hover {\n",
              "      background-color: #434B5C;\n",
              "      box-shadow: 0px 1px 3px 1px rgba(0, 0, 0, 0.15);\n",
              "      filter: drop-shadow(0px 1px 2px rgba(0, 0, 0, 0.3));\n",
              "      fill: #FFFFFF;\n",
              "    }\n",
              "  </style>\n",
              "\n",
              "      <script>\n",
              "        const buttonEl =\n",
              "          document.querySelector('#df-1cca9742-fd2f-48c5-9c5c-9d5ac2041bf9 button.colab-df-convert');\n",
              "        buttonEl.style.display =\n",
              "          google.colab.kernel.accessAllowed ? 'block' : 'none';\n",
              "\n",
              "        async function convertToInteractive(key) {\n",
              "          const element = document.querySelector('#df-1cca9742-fd2f-48c5-9c5c-9d5ac2041bf9');\n",
              "          const dataTable =\n",
              "            await google.colab.kernel.invokeFunction('convertToInteractive',\n",
              "                                                     [key], {});\n",
              "          if (!dataTable) return;\n",
              "\n",
              "          const docLinkHtml = 'Like what you see? Visit the ' +\n",
              "            '<a target=\"_blank\" href=https://colab.research.google.com/notebooks/data_table.ipynb>data table notebook</a>'\n",
              "            + ' to learn more about interactive tables.';\n",
              "          element.innerHTML = '';\n",
              "          dataTable['output_type'] = 'display_data';\n",
              "          await google.colab.output.renderOutput(dataTable, element);\n",
              "          const docLink = document.createElement('div');\n",
              "          docLink.innerHTML = docLinkHtml;\n",
              "          element.appendChild(docLink);\n",
              "        }\n",
              "      </script>\n",
              "    </div>\n",
              "  </div>\n",
              "  "
            ]
          },
          "metadata": {},
          "execution_count": 12
        }
      ]
    },
    {
      "cell_type": "code",
      "source": [
        "c02_prod.info()"
      ],
      "metadata": {
        "colab": {
          "base_uri": "https://localhost:8080/"
        },
        "id": "s8vB0PRvpAtO",
        "outputId": "00b6baa7-3185-41b2-8bc8-26e6509833d9"
      },
      "execution_count": null,
      "outputs": [
        {
          "output_type": "stream",
          "name": "stdout",
          "text": [
            "<class 'pandas.core.frame.DataFrame'>\n",
            "Int64Index: 27 entries, 0 to 26\n",
            "Data columns (total 45 columns):\n",
            " #   Column                                                      Non-Null Count  Dtype  \n",
            "---  ------                                                      --------------  -----  \n",
            " 0   Year_x                                                      27 non-null     object \n",
            " 1   RICE_TONNE_HA                                               27 non-null     float64\n",
            " 2   RICE_THND_TONNE                                             27 non-null     float64\n",
            " 3   RICE_THND_HA                                                27 non-null     float64\n",
            " 4   WHEAT_TONNE_HA                                              27 non-null     float64\n",
            " 5   WHEAT_THND_TONNE                                            27 non-null     float64\n",
            " 6   WHEAT_THND_HA                                               27 non-null     float64\n",
            " 7   MAIZE_TONNE_HA                                              27 non-null     float64\n",
            " 8   MAIZE_THND_TONNE                                            27 non-null     float64\n",
            " 9   MAIZE_THND_HA                                               27 non-null     float64\n",
            " 10  SOYBEAN_TONNE_HA                                            27 non-null     float64\n",
            " 11  SOYBEAN_THND_TONNE                                          27 non-null     float64\n",
            " 12  SOYBEAN_THND_HA                                             27 non-null     float64\n",
            " 13  Enteric Fermentation_Emissions (CO2eq) from CH4 (AR5)_x     27 non-null     float64\n",
            " 14  Manure Management_Emissions (CO2eq) from CH4 (AR5)_x        27 non-null     float64\n",
            " 15  Manure Management_Emissions (CO2eq) from N2O (AR5)_x        27 non-null     float64\n",
            " 16  Rice Cultivation_Emissions (CO2eq) from CH4 (AR5)_x         27 non-null     float64\n",
            " 17  Synthetic Fertilizers_Emissions (CO2eq) from N2O (AR5)_x    27 non-null     float64\n",
            " 18  Manure applied to Soils_Emissions (CO2eq) from N2O (AR5)_x  27 non-null     float64\n",
            " 19  Crop Residues_Emissions (CO2eq) from N2O (AR5)_x            27 non-null     float64\n",
            " 20  On-farm energy use_Emissions (CO2)_x                        27 non-null     float64\n",
            " 21  On-farm energy use_Emissions (CO2eq) from CH4 (AR5)_x       27 non-null     float64\n",
            " 22  On-farm energy use_Emissions (CO2eq) from N2O (AR5)_x       27 non-null     float64\n",
            " 23  IPCC Agriculture_Emissions (CO2eq) from N2O (AR5)_x         27 non-null     float64\n",
            " 24  IPCC Agriculture_Emissions (CO2eq) (AR5)_x                  27 non-null     float64\n",
            " 25  LULUCF_Emissions (CO2)_x                                    27 non-null     float64\n",
            " 26  AFOLU_Emissions (CO2eq) from CH4 (AR5)_x                    27 non-null     float64\n",
            " 27  Emissions on agricultural land_Emissions (CO2)_x            27 non-null     float64\n",
            " 28  Farm-gate emissions_Emissions (CO2eq) (AR5)_x               27 non-null     float64\n",
            " 29  Enteric Fermentation_Emissions (CO2eq) from CH4 (AR5)_y     27 non-null     float64\n",
            " 30  Manure Management_Emissions (CO2eq) from CH4 (AR5)_y        27 non-null     float64\n",
            " 31  Manure Management_Emissions (CO2eq) from N2O (AR5)_y        27 non-null     float64\n",
            " 32  Rice Cultivation_Emissions (CO2eq) from CH4 (AR5)_y         27 non-null     float64\n",
            " 33  Synthetic Fertilizers_Emissions (CO2eq) from N2O (AR5)_y    27 non-null     float64\n",
            " 34  Manure applied to Soils_Emissions (CO2eq) from N2O (AR5)_y  27 non-null     float64\n",
            " 35  Crop Residues_Emissions (CO2eq) from N2O (AR5)_y            27 non-null     float64\n",
            " 36  On-farm energy use_Emissions (CO2)_y                        27 non-null     float64\n",
            " 37  On-farm energy use_Emissions (CO2eq) from CH4 (AR5)_y       27 non-null     float64\n",
            " 38  On-farm energy use_Emissions (CO2eq) from N2O (AR5)_y       27 non-null     float64\n",
            " 39  IPCC Agriculture_Emissions (CO2eq) from N2O (AR5)_y         27 non-null     float64\n",
            " 40  IPCC Agriculture_Emissions (CO2eq) (AR5)_y                  27 non-null     float64\n",
            " 41  LULUCF_Emissions (CO2)_y                                    27 non-null     float64\n",
            " 42  AFOLU_Emissions (CO2eq) from CH4 (AR5)_y                    27 non-null     float64\n",
            " 43  Emissions on agricultural land_Emissions (CO2)_y            27 non-null     float64\n",
            " 44  Farm-gate emissions_Emissions (CO2eq) (AR5)_y               27 non-null     float64\n",
            "dtypes: float64(44), object(1)\n",
            "memory usage: 9.7+ KB\n"
          ]
        }
      ]
    },
    {
      "cell_type": "code",
      "source": [
        "ch4_prod.info()"
      ],
      "metadata": {
        "colab": {
          "base_uri": "https://localhost:8080/"
        },
        "id": "crjHSWlqsjw2",
        "outputId": "a9bf2ea9-bced-49fa-bab3-3d1758e4e6ae"
      },
      "execution_count": null,
      "outputs": [
        {
          "output_type": "stream",
          "name": "stdout",
          "text": [
            "<class 'pandas.core.frame.DataFrame'>\n",
            "Int64Index: 27 entries, 0 to 26\n",
            "Data columns (total 35 columns):\n",
            " #   Column                                                    Non-Null Count  Dtype  \n",
            "---  ------                                                    --------------  -----  \n",
            " 0   Year_x                                                    27 non-null     object \n",
            " 1   RICE_TONNE_HA                                             27 non-null     float64\n",
            " 2   RICE_THND_TONNE                                           27 non-null     float64\n",
            " 3   RICE_THND_HA                                              27 non-null     float64\n",
            " 4   WHEAT_TONNE_HA                                            27 non-null     float64\n",
            " 5   WHEAT_THND_TONNE                                          27 non-null     float64\n",
            " 6   WHEAT_THND_HA                                             27 non-null     float64\n",
            " 7   MAIZE_TONNE_HA                                            27 non-null     float64\n",
            " 8   MAIZE_THND_TONNE                                          27 non-null     float64\n",
            " 9   MAIZE_THND_HA                                             27 non-null     float64\n",
            " 10  SOYBEAN_TONNE_HA                                          27 non-null     float64\n",
            " 11  SOYBEAN_THND_TONNE                                        27 non-null     float64\n",
            " 12  SOYBEAN_THND_HA                                           27 non-null     float64\n",
            " 13  Enteric Fermentation_Emissions (CO2eq) from CH4 (AR5)     27 non-null     float64\n",
            " 14  Manure Management_Emissions (CO2eq) from CH4 (AR5)        27 non-null     float64\n",
            " 15  Manure Management_Emissions (CO2eq) from N2O (AR5)        27 non-null     float64\n",
            " 16  Rice Cultivation_Emissions (CO2eq) from CH4 (AR5)         27 non-null     float64\n",
            " 17  Synthetic Fertilizers_Emissions (CO2eq) from N2O (AR5)    27 non-null     float64\n",
            " 18  Manure applied to Soils_Emissions (CO2eq) from N2O (AR5)  27 non-null     float64\n",
            " 19  Crop Residues_Emissions (CO2eq) from N2O (AR5)            27 non-null     float64\n",
            " 20  On-farm energy use_Emissions (CO2)                        27 non-null     float64\n",
            " 21  On-farm energy use_Emissions (CO2eq) from CH4 (AR5)       27 non-null     float64\n",
            " 22  On-farm energy use_Emissions (CO2eq) from N2O (AR5)       27 non-null     float64\n",
            " 23  IPCC Agriculture_Emissions (CO2eq) from N2O (AR5)         27 non-null     float64\n",
            " 24  IPCC Agriculture_Emissions (CO2eq) (AR5)                  27 non-null     float64\n",
            " 25  LULUCF_Emissions (CO2)                                    27 non-null     float64\n",
            " 26  AFOLU_Emissions (CO2eq) from CH4 (AR5)                    27 non-null     float64\n",
            " 27  Emissions on agricultural land_Emissions (CO2)            27 non-null     float64\n",
            " 28  Farm-gate emissions_Emissions (CO2eq) (AR5)               27 non-null     float64\n",
            " 29  Year_y                                                    27 non-null     object \n",
            " 30  Enteric Fermentation_Emissions (CH4)                      27 non-null     float64\n",
            " 31  Manure Management_Emissions (CH4)                         27 non-null     float64\n",
            " 32  Rice Cultivation_Emissions (CH4)                          27 non-null     float64\n",
            " 33  On-farm energy use_Emissions (CH4)                        27 non-null     float64\n",
            " 34  AFOLU_Emissions (CH4)                                     27 non-null     float64\n",
            "dtypes: float64(33), object(2)\n",
            "memory usage: 7.6+ KB\n"
          ]
        }
      ]
    },
    {
      "cell_type": "code",
      "source": [
        "n20_prod.info()"
      ],
      "metadata": {
        "colab": {
          "base_uri": "https://localhost:8080/"
        },
        "id": "h71cKtSL_cJJ",
        "outputId": "1e0a7a9e-9e95-4d5a-b8ab-ee33f41f4b89"
      },
      "execution_count": null,
      "outputs": [
        {
          "output_type": "stream",
          "name": "stdout",
          "text": [
            "<class 'pandas.core.frame.DataFrame'>\n",
            "Int64Index: 27 entries, 0 to 26\n",
            "Data columns (total 38 columns):\n",
            " #   Column                                                    Non-Null Count  Dtype  \n",
            "---  ------                                                    --------------  -----  \n",
            " 0   Year_x                                                    27 non-null     object \n",
            " 1   RICE_TONNE_HA                                             27 non-null     float64\n",
            " 2   RICE_THND_TONNE                                           27 non-null     float64\n",
            " 3   RICE_THND_HA                                              27 non-null     float64\n",
            " 4   WHEAT_TONNE_HA                                            27 non-null     float64\n",
            " 5   WHEAT_THND_TONNE                                          27 non-null     float64\n",
            " 6   WHEAT_THND_HA                                             27 non-null     float64\n",
            " 7   MAIZE_TONNE_HA                                            27 non-null     float64\n",
            " 8   MAIZE_THND_TONNE                                          27 non-null     float64\n",
            " 9   MAIZE_THND_HA                                             27 non-null     float64\n",
            " 10  SOYBEAN_TONNE_HA                                          27 non-null     float64\n",
            " 11  SOYBEAN_THND_TONNE                                        27 non-null     float64\n",
            " 12  SOYBEAN_THND_HA                                           27 non-null     float64\n",
            " 13  Enteric Fermentation_Emissions (CO2eq) from CH4 (AR5)     27 non-null     float64\n",
            " 14  Manure Management_Emissions (CO2eq) from CH4 (AR5)        27 non-null     float64\n",
            " 15  Manure Management_Emissions (CO2eq) from N2O (AR5)        27 non-null     float64\n",
            " 16  Rice Cultivation_Emissions (CO2eq) from CH4 (AR5)         27 non-null     float64\n",
            " 17  Synthetic Fertilizers_Emissions (CO2eq) from N2O (AR5)    27 non-null     float64\n",
            " 18  Manure applied to Soils_Emissions (CO2eq) from N2O (AR5)  27 non-null     float64\n",
            " 19  Crop Residues_Emissions (CO2eq) from N2O (AR5)            27 non-null     float64\n",
            " 20  On-farm energy use_Emissions (CO2)                        27 non-null     float64\n",
            " 21  On-farm energy use_Emissions (CO2eq) from CH4 (AR5)       27 non-null     float64\n",
            " 22  On-farm energy use_Emissions (CO2eq) from N2O (AR5)       27 non-null     float64\n",
            " 23  IPCC Agriculture_Emissions (CO2eq) from N2O (AR5)         27 non-null     float64\n",
            " 24  IPCC Agriculture_Emissions (CO2eq) (AR5)                  27 non-null     float64\n",
            " 25  LULUCF_Emissions (CO2)                                    27 non-null     float64\n",
            " 26  AFOLU_Emissions (CO2eq) from CH4 (AR5)                    27 non-null     float64\n",
            " 27  Emissions on agricultural land_Emissions (CO2)            27 non-null     float64\n",
            " 28  Farm-gate emissions_Emissions (CO2eq) (AR5)               27 non-null     float64\n",
            " 29  Year_y                                                    27 non-null     object \n",
            " 30  Manure Management_Emissions (N2O)                         27 non-null     float64\n",
            " 31  Synthetic Fertilizers_Direct emissions (N2O)              27 non-null     float64\n",
            " 32  Manure applied to Soils_Direct emissions (N2O)            27 non-null     float64\n",
            " 33  Manure left on Pasture_Direct emissions (N2O)             27 non-null     float64\n",
            " 34  Crop Residues_Direct emissions (N2O)                      27 non-null     float64\n",
            " 35  Drained organic soils (N2O)_Emissions (N2O)               27 non-null     float64\n",
            " 36  On-farm energy use_Emissions (N2O)                        27 non-null     float64\n",
            " 37  IPCC Agriculture_Direct emissions (N2O)                   27 non-null     float64\n",
            "dtypes: float64(36), object(2)\n",
            "memory usage: 8.2+ KB\n"
          ]
        }
      ]
    },
    {
      "cell_type": "code",
      "source": [
        "n20_prod.iloc[:,1:12].head(2)"
      ],
      "metadata": {
        "colab": {
          "base_uri": "https://localhost:8080/",
          "height": 176
        },
        "id": "qGSq5VjvB64O",
        "outputId": "4ec3d391-4287-4b6b-92e1-97d972ebb655"
      },
      "execution_count": null,
      "outputs": [
        {
          "output_type": "execute_result",
          "data": {
            "text/plain": [
              "   RICE_TONNE_HA  RICE_THND_TONNE  RICE_THND_HA  WHEAT_TONNE_HA  \\\n",
              "0       4.313679      4928.082909   1142.431401        2.656879   \n",
              "1       4.468591      5029.107031   1125.434547        2.303895   \n",
              "\n",
              "   WHEAT_THND_TONNE  WHEAT_THND_HA  MAIZE_TONNE_HA  MAIZE_THND_TONNE  \\\n",
              "0        74296.9584        27964.0        7.433033        201539.468   \n",
              "1        53890.4016        23391.0        6.819797        189879.950   \n",
              "\n",
              "   MAIZE_THND_HA  SOYBEAN_TONNE_HA  SOYBEAN_THND_TONNE  \n",
              "0     27114.0290           2.29240          52415.2944  \n",
              "1     27842.4656           2.30338          54064.5840  "
            ],
            "text/html": [
              "\n",
              "  <div id=\"df-9f459f17-7a43-4f7f-9bfa-f5f9bb475963\">\n",
              "    <div class=\"colab-df-container\">\n",
              "      <div>\n",
              "<style scoped>\n",
              "    .dataframe tbody tr th:only-of-type {\n",
              "        vertical-align: middle;\n",
              "    }\n",
              "\n",
              "    .dataframe tbody tr th {\n",
              "        vertical-align: top;\n",
              "    }\n",
              "\n",
              "    .dataframe thead th {\n",
              "        text-align: right;\n",
              "    }\n",
              "</style>\n",
              "<table border=\"1\" class=\"dataframe\">\n",
              "  <thead>\n",
              "    <tr style=\"text-align: right;\">\n",
              "      <th></th>\n",
              "      <th>RICE_TONNE_HA</th>\n",
              "      <th>RICE_THND_TONNE</th>\n",
              "      <th>RICE_THND_HA</th>\n",
              "      <th>WHEAT_TONNE_HA</th>\n",
              "      <th>WHEAT_THND_TONNE</th>\n",
              "      <th>WHEAT_THND_HA</th>\n",
              "      <th>MAIZE_TONNE_HA</th>\n",
              "      <th>MAIZE_THND_TONNE</th>\n",
              "      <th>MAIZE_THND_HA</th>\n",
              "      <th>SOYBEAN_TONNE_HA</th>\n",
              "      <th>SOYBEAN_THND_TONNE</th>\n",
              "    </tr>\n",
              "  </thead>\n",
              "  <tbody>\n",
              "    <tr>\n",
              "      <th>0</th>\n",
              "      <td>4.313679</td>\n",
              "      <td>4928.082909</td>\n",
              "      <td>1142.431401</td>\n",
              "      <td>2.656879</td>\n",
              "      <td>74296.9584</td>\n",
              "      <td>27964.0</td>\n",
              "      <td>7.433033</td>\n",
              "      <td>201539.468</td>\n",
              "      <td>27114.0290</td>\n",
              "      <td>2.29240</td>\n",
              "      <td>52415.2944</td>\n",
              "    </tr>\n",
              "    <tr>\n",
              "      <th>1</th>\n",
              "      <td>4.468591</td>\n",
              "      <td>5029.107031</td>\n",
              "      <td>1125.434547</td>\n",
              "      <td>2.303895</td>\n",
              "      <td>53890.4016</td>\n",
              "      <td>23391.0</td>\n",
              "      <td>6.819797</td>\n",
              "      <td>189879.950</td>\n",
              "      <td>27842.4656</td>\n",
              "      <td>2.30338</td>\n",
              "      <td>54064.5840</td>\n",
              "    </tr>\n",
              "  </tbody>\n",
              "</table>\n",
              "</div>\n",
              "      <button class=\"colab-df-convert\" onclick=\"convertToInteractive('df-9f459f17-7a43-4f7f-9bfa-f5f9bb475963')\"\n",
              "              title=\"Convert this dataframe to an interactive table.\"\n",
              "              style=\"display:none;\">\n",
              "        \n",
              "  <svg xmlns=\"http://www.w3.org/2000/svg\" height=\"24px\"viewBox=\"0 0 24 24\"\n",
              "       width=\"24px\">\n",
              "    <path d=\"M0 0h24v24H0V0z\" fill=\"none\"/>\n",
              "    <path d=\"M18.56 5.44l.94 2.06.94-2.06 2.06-.94-2.06-.94-.94-2.06-.94 2.06-2.06.94zm-11 1L8.5 8.5l.94-2.06 2.06-.94-2.06-.94L8.5 2.5l-.94 2.06-2.06.94zm10 10l.94 2.06.94-2.06 2.06-.94-2.06-.94-.94-2.06-.94 2.06-2.06.94z\"/><path d=\"M17.41 7.96l-1.37-1.37c-.4-.4-.92-.59-1.43-.59-.52 0-1.04.2-1.43.59L10.3 9.45l-7.72 7.72c-.78.78-.78 2.05 0 2.83L4 21.41c.39.39.9.59 1.41.59.51 0 1.02-.2 1.41-.59l7.78-7.78 2.81-2.81c.8-.78.8-2.07 0-2.86zM5.41 20L4 18.59l7.72-7.72 1.47 1.35L5.41 20z\"/>\n",
              "  </svg>\n",
              "      </button>\n",
              "      \n",
              "  <style>\n",
              "    .colab-df-container {\n",
              "      display:flex;\n",
              "      flex-wrap:wrap;\n",
              "      gap: 12px;\n",
              "    }\n",
              "\n",
              "    .colab-df-convert {\n",
              "      background-color: #E8F0FE;\n",
              "      border: none;\n",
              "      border-radius: 50%;\n",
              "      cursor: pointer;\n",
              "      display: none;\n",
              "      fill: #1967D2;\n",
              "      height: 32px;\n",
              "      padding: 0 0 0 0;\n",
              "      width: 32px;\n",
              "    }\n",
              "\n",
              "    .colab-df-convert:hover {\n",
              "      background-color: #E2EBFA;\n",
              "      box-shadow: 0px 1px 2px rgba(60, 64, 67, 0.3), 0px 1px 3px 1px rgba(60, 64, 67, 0.15);\n",
              "      fill: #174EA6;\n",
              "    }\n",
              "\n",
              "    [theme=dark] .colab-df-convert {\n",
              "      background-color: #3B4455;\n",
              "      fill: #D2E3FC;\n",
              "    }\n",
              "\n",
              "    [theme=dark] .colab-df-convert:hover {\n",
              "      background-color: #434B5C;\n",
              "      box-shadow: 0px 1px 3px 1px rgba(0, 0, 0, 0.15);\n",
              "      filter: drop-shadow(0px 1px 2px rgba(0, 0, 0, 0.3));\n",
              "      fill: #FFFFFF;\n",
              "    }\n",
              "  </style>\n",
              "\n",
              "      <script>\n",
              "        const buttonEl =\n",
              "          document.querySelector('#df-9f459f17-7a43-4f7f-9bfa-f5f9bb475963 button.colab-df-convert');\n",
              "        buttonEl.style.display =\n",
              "          google.colab.kernel.accessAllowed ? 'block' : 'none';\n",
              "\n",
              "        async function convertToInteractive(key) {\n",
              "          const element = document.querySelector('#df-9f459f17-7a43-4f7f-9bfa-f5f9bb475963');\n",
              "          const dataTable =\n",
              "            await google.colab.kernel.invokeFunction('convertToInteractive',\n",
              "                                                     [key], {});\n",
              "          if (!dataTable) return;\n",
              "\n",
              "          const docLinkHtml = 'Like what you see? Visit the ' +\n",
              "            '<a target=\"_blank\" href=https://colab.research.google.com/notebooks/data_table.ipynb>data table notebook</a>'\n",
              "            + ' to learn more about interactive tables.';\n",
              "          element.innerHTML = '';\n",
              "          dataTable['output_type'] = 'display_data';\n",
              "          await google.colab.output.renderOutput(dataTable, element);\n",
              "          const docLink = document.createElement('div');\n",
              "          docLink.innerHTML = docLinkHtml;\n",
              "          element.appendChild(docLink);\n",
              "        }\n",
              "      </script>\n",
              "    </div>\n",
              "  </div>\n",
              "  "
            ]
          },
          "metadata": {},
          "execution_count": 16
        }
      ]
    },
    {
      "cell_type": "markdown",
      "source": [
        "Danny-Linear Regression"
      ],
      "metadata": {
        "id": "wHsmi0DkBM7D"
      }
    },
    {
      "cell_type": "code",
      "source": [
        "from sklearn.preprocessing import MinMaxScaler\n",
        "X_1=n20_prod[['Enteric Fermentation_Emissions (CO2eq) from CH4 (AR5)','On-farm energy use_Emissions (CO2)','On-farm energy use_Emissions (CO2eq) from CH4 (AR5)','On-farm energy use_Emissions (CO2eq) from N2O (AR5)',\n",
        "'Emissions on agricultural land_Emissions (CO2)','On-farm energy use_Emissions (N2O)','IPCC Agriculture_Emissions (CO2eq) from N2O (AR5)','IPCC Agriculture_Emissions (CO2eq) (AR5)']]\n",
        "\n",
        "# X_1=n20_prod[['Enteric Fermentation_Emissions (CO2eq) from CH4 (AR5)','On-farm energy use_Emissions (CO2eq) from CH4 (AR5)',\n",
        "#               'On-farm energy use_Emissions (CO2eq) from N2O (AR5)',\n",
        "# 'On-farm energy use_Emissions (N2O)','IPCC Agriculture_Emissions (CO2eq) from N2O (AR5)']]\n",
        "y_1=n20_prod[['RICE_TONNE_HA','WHEAT_TONNE_HA','MAIZE_TONNE_HA','SOYBEAN_TONNE_HA']]\n",
        "from sklearn.preprocessing import StandardScaler\n",
        "X_1_train, X_1_test, y_1_train, y_1_test = train_test_split(X_1, y_1, test_size = 0.2, random_state = 21)\n",
        "sc = StandardScaler()\n",
        "X_1_train = sc.fit_transform(X_1_train)\n",
        "X_1_test = sc.transform(X_1_test)"
      ],
      "metadata": {
        "id": "10DhEhOABTTP"
      },
      "execution_count": null,
      "outputs": []
    },
    {
      "cell_type": "code",
      "source": [
        "regr = LinearRegression()\n",
        "  \n",
        "regr.fit(X_1_train, y_1_train)\n",
        "y_1_pred=regr.predict(X_1_test)\n",
        "print(regr.score(X_1_test, y_1_test))#r^2 score"
      ],
      "metadata": {
        "colab": {
          "base_uri": "https://localhost:8080/"
        },
        "outputId": "0fb7b5da-f1c8-42d1-9e0f-841a22e2fc3a",
        "id": "xyeaz5T6BTTR"
      },
      "execution_count": null,
      "outputs": [
        {
          "output_type": "stream",
          "name": "stdout",
          "text": [
            "0.7579197425767624\n"
          ]
        }
      ]
    },
    {
      "cell_type": "code",
      "source": [
        "import math\n",
        "from sklearn.metrics import mean_squared_error\n",
        "print(mean_squared_error(y_1_test, y_1_pred))\n",
        "print(math.sqrt(mean_squared_error(y_1_test, y_1_pred)))\n",
        "# MSE: 109.86374118394116\n",
        "# RMSE: 10.48159058463653"
      ],
      "metadata": {
        "colab": {
          "base_uri": "https://localhost:8080/"
        },
        "id": "2k0NGzDAFZEW",
        "outputId": "baec4117-47b6-4181-8a41-1ae07d870f5c"
      },
      "execution_count": null,
      "outputs": [
        {
          "output_type": "stream",
          "name": "stdout",
          "text": [
            "0.15954426213636844\n",
            "0.39942992143349554\n"
          ]
        }
      ]
    },
    {
      "cell_type": "code",
      "source": [
        "from sklearn.metrics import r2_score\n",
        "print(r2_score(y_1_test, y_1_pred))"
      ],
      "metadata": {
        "colab": {
          "base_uri": "https://localhost:8080/"
        },
        "id": "3TTiN0h3I8J5",
        "outputId": "2ab63998-f419-4d2e-eaad-984d2938caa0"
      },
      "execution_count": null,
      "outputs": [
        {
          "output_type": "stream",
          "name": "stdout",
          "text": [
            "0.7579197425767624\n"
          ]
        }
      ]
    },
    {
      "cell_type": "markdown",
      "source": [
        "Linear regression - Kristina <br>\n",
        "Adding multiple entries in merged data frame <br>\n",
        "Results  are better with 100x larger data set"
      ],
      "metadata": {
        "id": "K9F9Ena7s_xv"
      }
    },
    {
      "cell_type": "code",
      "source": [
        "import pandas as pd\n",
        "import numpy as np\n",
        "n20_prod_extended = pd.DataFrame(np.repeat(n20_prod.values, 100, axis=0))\n",
        "n20_prod_extended.columns = n20_prod.columns\n"
      ],
      "metadata": {
        "id": "E2F_rdbvr5Ip"
      },
      "execution_count": null,
      "outputs": []
    },
    {
      "cell_type": "code",
      "source": [
        "from sklearn.preprocessing import MinMaxScaler\n",
        "# X_2=n20_prod_extended[['Enteric Fermentation_Emissions (CO2eq) from CH4 (AR5)','On-farm energy use_Emissions (CO2)','On-farm energy use_Emissions (CO2eq) from CH4 (AR5)','On-farm energy use_Emissions (CO2eq) from N2O (AR5)',\n",
        "# 'Emissions on agricultural land_Emissions (CO2)','On-farm energy use_Emissions (N2O)','IPCC Agriculture_Emissions (CO2eq) from N2O (AR5)','IPCC Agriculture_Emissions (CO2eq) (AR5)']]\n",
        "X_2=n20_prod_extended[['Manure Management_Emissions (N2O)',\n",
        "\t\t\t\t'Synthetic Fertilizers_Direct emissions (N2O)',\n",
        "\t\t\t\t'On-farm energy use_Emissions (N2O)',\n",
        "\t\t\t\t'Crop Residues_Direct emissions (N2O)',\n",
        "\t\t\t\t'IPCC Agriculture_Direct emissions (N2O)']]\n",
        "# X_1=n20_prod[['Enteric Fermentation_Emissions (CO2eq) from CH4 (AR5)','On-farm energy use_Emissions (CO2eq) from CH4 (AR5)',\n",
        "#               'On-farm energy use_Emissions (CO2eq) from N2O (AR5)',\n",
        "# 'On-farm energy use_Emissions (N2O)','IPCC Agriculture_Emissions (CO2eq) from N2O (AR5)']]\n",
        "y_2=n20_prod_extended[['RICE_TONNE_HA','WHEAT_TONNE_HA','MAIZE_TONNE_HA','SOYBEAN_TONNE_HA']]\n",
        "from sklearn.preprocessing import StandardScaler\n",
        "X_2_train, X_2_test, y_2_train, y_2_test = train_test_split(X_2, y_2, test_size = 0.2, random_state = 21)\n",
        "sc = StandardScaler()\n",
        "X_2_train = sc.fit_transform(X_2_train)\n",
        "X_2_test = sc.transform(X_2_test)\n",
        "regr = LinearRegression()\n",
        "regr.fit(X_2_train, y_2_train)\n",
        "y_2_pred=regr.predict(X_2_test)\n",
        "print(regr.score(X_2_test, y_2_test))#r^2 score"
      ],
      "metadata": {
        "colab": {
          "base_uri": "https://localhost:8080/"
        },
        "id": "Uaq8StZlry1L",
        "outputId": "658688d2-a5a3-46f6-934f-4bfdcdbd4911"
      },
      "execution_count": null,
      "outputs": [
        {
          "output_type": "stream",
          "name": "stdout",
          "text": [
            "0.8229829673819015\n"
          ]
        }
      ]
    },
    {
      "cell_type": "code",
      "source": [
        "import math\n",
        "from sklearn.metrics import mean_squared_error\n",
        "print(mean_squared_error(y_2_test, y_2_pred))\n",
        "print(math.sqrt(mean_squared_error(y_2_test, y_2_pred)))\n",
        "# MSE: 109.86374118394116\n",
        "# RMSE: 10.48159058463653"
      ],
      "metadata": {
        "colab": {
          "base_uri": "https://localhost:8080/"
        },
        "id": "aEgyPNxfsuPY",
        "outputId": "a9605908-fb55-428d-9f18-3366caf14a8f"
      },
      "execution_count": null,
      "outputs": [
        {
          "output_type": "stream",
          "name": "stdout",
          "text": [
            "0.07554912873052723\n",
            "0.2748620176207095\n"
          ]
        }
      ]
    },
    {
      "cell_type": "code",
      "source": [
        "from sklearn.metrics import r2_score\n",
        "print(r2_score(y_2_test, y_2_pred))"
      ],
      "metadata": {
        "colab": {
          "base_uri": "https://localhost:8080/"
        },
        "id": "n188wJEls0we",
        "outputId": "93d44b9a-fbce-4004-ebc1-016063e400d0"
      },
      "execution_count": null,
      "outputs": [
        {
          "output_type": "stream",
          "name": "stdout",
          "text": [
            "0.8255576820613176\n"
          ]
        }
      ]
    },
    {
      "cell_type": "markdown",
      "source": [
        "Adding noise - Kristina"
      ],
      "metadata": {
        "id": "f35E7DUP1Z-5"
      }
    },
    {
      "cell_type": "code",
      "source": [
        "import pandas as pd\n",
        "import numpy as np\n",
        "print(n20_prod.shape)\n",
        "n20_prod_extended = pd.DataFrame(np.repeat(n20_prod.values, 1000, axis=0))\n",
        "n20_prod_extended.columns = n20_prod.columns\n",
        "print(n20_prod_extended.shape)"
      ],
      "metadata": {
        "colab": {
          "base_uri": "https://localhost:8080/"
        },
        "id": "iOpRRB4F1r3r",
        "outputId": "0a2aeab3-024f-484a-cb59-a58392a0ec98"
      },
      "execution_count": null,
      "outputs": [
        {
          "output_type": "stream",
          "name": "stdout",
          "text": [
            "(27, 38)\n",
            "(27000, 38)\n"
          ]
        }
      ]
    },
    {
      "cell_type": "code",
      "source": [
        "import numpy as np \n",
        "mu, sigma = 0, 0.1 \n",
        "noise = np.random.normal(mu, sigma, [n20_prod_extended.shape[0],n20_prod_extended.shape[1]])\n",
        "print(noise.dtype)\n",
        "n20_prod_noisy = n20_prod_extended.astype(float) + noise"
      ],
      "metadata": {
        "colab": {
          "base_uri": "https://localhost:8080/"
        },
        "id": "iSs91ocd1ce3",
        "outputId": "db284f9c-5708-4f5a-ff0c-be52104b9d16"
      },
      "execution_count": null,
      "outputs": [
        {
          "output_type": "stream",
          "name": "stdout",
          "text": [
            "float64\n"
          ]
        }
      ]
    },
    {
      "cell_type": "code",
      "source": [
        "from sklearn.preprocessing import MinMaxScaler\n",
        "X_2=n20_prod_extended[['Enteric Fermentation_Emissions (CO2eq) from CH4 (AR5)','On-farm energy use_Emissions (CO2)','On-farm energy use_Emissions (CO2eq) from CH4 (AR5)','On-farm energy use_Emissions (CO2eq) from N2O (AR5)',\n",
        "'Emissions on agricultural land_Emissions (CO2)','On-farm energy use_Emissions (N2O)','IPCC Agriculture_Emissions (CO2eq) from N2O (AR5)','IPCC Agriculture_Emissions (CO2eq) (AR5)']]\n",
        "\n",
        "# X_1=n20_prod[['Enteric Fermentation_Emissions (CO2eq) from CH4 (AR5)','On-farm energy use_Emissions (CO2eq) from CH4 (AR5)',\n",
        "#               'On-farm energy use_Emissions (CO2eq) from N2O (AR5)',\n",
        "# 'On-farm energy use_Emissions (N2O)','IPCC Agriculture_Emissions (CO2eq) from N2O (AR5)']]\n",
        "y_2=n20_prod_extended[['RICE_TONNE_HA','WHEAT_TONNE_HA','MAIZE_TONNE_HA','SOYBEAN_TONNE_HA']]\n",
        "from sklearn.preprocessing import StandardScaler\n",
        "X_2_train, X_2_test, y_2_train, y_2_test = train_test_split(X_2, y_2, test_size = 0.2, random_state = 21)\n",
        "sc = StandardScaler()\n",
        "X_2_train = sc.fit_transform(X_2_train)\n",
        "X_2_test = sc.transform(X_2_test)\n",
        "regr = LinearRegression()\n",
        "regr.fit(X_2_train, y_2_train)\n",
        "y_2_pred=regr.predict(X_2_test)\n",
        "print(regr.score(X_2_test, y_2_test))#r^2 score"
      ],
      "metadata": {
        "colab": {
          "base_uri": "https://localhost:8080/"
        },
        "id": "GLqZL9PB2HgP",
        "outputId": "7e4a4e7f-ac28-4aad-caee-70e9e3436875"
      },
      "execution_count": null,
      "outputs": [
        {
          "output_type": "stream",
          "name": "stdout",
          "text": [
            "0.8234627667132697\n"
          ]
        }
      ]
    },
    {
      "cell_type": "markdown",
      "source": [
        "Linear regression - Kristina <br>\n",
        "Adding cross validation and a larger data set <br>\n",
        "Model accuracy with a larger data set + CV doesn't improve much, so we can leave it out"
      ],
      "metadata": {
        "id": "odravOCQtT2R"
      }
    },
    {
      "cell_type": "code",
      "source": [
        "from sklearn.preprocessing import MinMaxScaler\n",
        "X_3=n20_prod_extended[['Enteric Fermentation_Emissions (CO2eq) from CH4 (AR5)','On-farm energy use_Emissions (CO2)','On-farm energy use_Emissions (CO2eq) from CH4 (AR5)','On-farm energy use_Emissions (CO2eq) from N2O (AR5)',\n",
        "'Emissions on agricultural land_Emissions (CO2)','On-farm energy use_Emissions (N2O)','IPCC Agriculture_Emissions (CO2eq) from N2O (AR5)','IPCC Agriculture_Emissions (CO2eq) (AR5)']]\n",
        "\n",
        "# X_1=n20_prod[['Enteric Fermentation_Emissions (CO2eq) from CH4 (AR5)','On-farm energy use_Emissions (CO2eq) from CH4 (AR5)',\n",
        "#               'On-farm energy use_Emissions (CO2eq) from N2O (AR5)',\n",
        "# 'On-farm energy use_Emissions (N2O)','IPCC Agriculture_Emissions (CO2eq) from N2O (AR5)']]\n",
        "y_3=n20_prod_extended[['RICE_TONNE_HA','WHEAT_TONNE_HA','MAIZE_TONNE_HA','SOYBEAN_TONNE_HA']]\n",
        "from sklearn.preprocessing import StandardScaler\n",
        "from sklearn.model_selection import cross_val_score, KFold\n",
        "X_3_train, X_3_test, y_3_train, y_3_test = train_test_split(X_3, y_3, test_size = 0.2, random_state = 21)\n",
        "sc = StandardScaler()\n",
        "X_3_train = sc.fit_transform(X_3_train)\n",
        "X_3_test = sc.transform(X_3_test)\n",
        "kf = KFold(n_splits=10, shuffle=True, random_state=21)\n",
        "regr = LinearRegression()\n",
        "cv_results = cross_val_score(regr, X_3_train, y_3_train, cv=kf)\n",
        "print(cv_results)"
      ],
      "metadata": {
        "colab": {
          "base_uri": "https://localhost:8080/"
        },
        "id": "sseADmm2tPFa",
        "outputId": "a9bca6dc-bea5-4847-c2c9-4e3824986e12"
      },
      "execution_count": null,
      "outputs": [
        {
          "output_type": "stream",
          "name": "stdout",
          "text": [
            "[0.83887022 0.81344617 0.83149283 0.81764948 0.81029809 0.79548793\n",
            " 0.82998491 0.81707969 0.82981676 0.82054265]\n"
          ]
        }
      ]
    },
    {
      "cell_type": "markdown",
      "source": [
        "co2 lin reg"
      ],
      "metadata": {
        "id": "xp7fR8BmMQRI"
      }
    },
    {
      "cell_type": "code",
      "source": [
        "from sklearn.preprocessing import MinMaxScaler\n",
        "X=c02_prod.iloc[:,13:]\n",
        "#target\n",
        "y=c02_prod.iloc[:,1:12]#[['RICE_TONNE_HA']]#,'WHEAT_THND_TONNE','MAIZE_THND_TONNE','SOYBEAN_THND_TONNE']]\n",
        "\n",
        "from sklearn.preprocessing import StandardScaler\n",
        "X_train, X_test, y_train, y_test = train_test_split(X, y, test_size = 0.3, random_state = 21)\n",
        "sc = StandardScaler()\n",
        "X_train = sc.fit_transform(X_train)\n",
        "X_test = sc.transform(X_test)"
      ],
      "metadata": {
        "id": "Sdf_AqVqCK4d"
      },
      "execution_count": null,
      "outputs": []
    },
    {
      "cell_type": "code",
      "source": [
        "regr = LinearRegression()\n",
        "  \n",
        "regr.fit(X_train, y_train)\n",
        "y_pred=regr.predict(X_test)\n",
        "print(regr.score(X_test, y_test))"
      ],
      "metadata": {
        "colab": {
          "base_uri": "https://localhost:8080/"
        },
        "id": "L5XVoy2iMB3S",
        "outputId": "68064d02-df1f-40af-8140-5c3516554da0"
      },
      "execution_count": null,
      "outputs": [
        {
          "output_type": "stream",
          "name": "stdout",
          "text": [
            "-1.202852216139968\n"
          ]
        }
      ]
    },
    {
      "cell_type": "code",
      "source": [
        "import math\n",
        "from sklearn.metrics import mean_squared_error\n",
        "print(mean_squared_error(y_test, y_pred))\n",
        "print(math.sqrt(mean_squared_error(y_test, y_pred)))"
      ],
      "metadata": {
        "colab": {
          "base_uri": "https://localhost:8080/"
        },
        "id": "2VcfyUm4yRHt",
        "outputId": "454fc220-9f10-48c0-da2b-ceecaf582707"
      },
      "execution_count": null,
      "outputs": [
        {
          "output_type": "stream",
          "name": "stdout",
          "text": [
            "63554778.67689111\n",
            "7972.125104192176\n"
          ]
        }
      ]
    },
    {
      "cell_type": "code",
      "source": [
        "from sklearn.metrics import r2_score\n",
        "print(r2_score(y_test, y_pred))"
      ],
      "metadata": {
        "colab": {
          "base_uri": "https://localhost:8080/"
        },
        "id": "Bh4R7FVzyeXt",
        "outputId": "fc109d5d-520c-4c6b-d317-b7d06c35254e"
      },
      "execution_count": null,
      "outputs": [
        {
          "output_type": "stream",
          "name": "stdout",
          "text": [
            "-1.202852216139968\n"
          ]
        }
      ]
    },
    {
      "cell_type": "markdown",
      "source": [
        "CO2 linear regression - larger data set"
      ],
      "metadata": {
        "id": "9HA-a1Lpwz5D"
      }
    },
    {
      "cell_type": "code",
      "source": [
        "import pandas as pd\n",
        "import numpy as np\n",
        "c02_prod_extended = pd.DataFrame(np.repeat(c02_prod.values, 100, axis=0))\n",
        "c02_prod_extended.columns = c02_prod.columns"
      ],
      "metadata": {
        "id": "3fBpNG8iwzSg"
      },
      "execution_count": null,
      "outputs": []
    },
    {
      "cell_type": "code",
      "source": [
        "from sklearn.preprocessing import MinMaxScaler\n",
        "X_2=c02_prod_extended.iloc[:,13:]\n",
        "#target\n",
        "y_2=c02_prod_extended.iloc[:,1:12]#[['RICE_TONNE_HA']]#,'WHEAT_THND_TONNE','MAIZE_THND_TONNE','SOYBEAN_THND_TONNE']]\n",
        "\n",
        "from sklearn.preprocessing import StandardScaler\n",
        "X_2_train, X_2_test, y_2_train, y_2_test = train_test_split(X_2, y_2, test_size = 0.3, random_state = 21)\n",
        "sc = StandardScaler()\n",
        "X_2_train = sc.fit_transform(X_2_train)\n",
        "X_2_test = sc.transform(X_2_test)\n",
        "regr = LinearRegression()\n",
        "regr.fit(X_2_train, y_2_train)\n",
        "y_2_pred=regr.predict(X_2_test)\n",
        "print(regr.score(X_2_test, y_2_test))#r^2 score"
      ],
      "metadata": {
        "colab": {
          "base_uri": "https://localhost:8080/"
        },
        "id": "z7uiWRNAw8nF",
        "outputId": "aa0f4f1e-fdca-470e-c947-207383399250"
      },
      "execution_count": null,
      "outputs": [
        {
          "output_type": "stream",
          "name": "stdout",
          "text": [
            "0.9489763589634901\n"
          ]
        }
      ]
    },
    {
      "cell_type": "code",
      "source": [
        "import math\n",
        "from sklearn.metrics import mean_squared_error\n",
        "print(mean_squared_error(y_2_test, y_2_pred))\n",
        "print(math.sqrt(mean_squared_error(y_2_test, y_2_pred)))"
      ],
      "metadata": {
        "colab": {
          "base_uri": "https://localhost:8080/"
        },
        "id": "zoM3IoglxKCx",
        "outputId": "e494d612-a1ab-4684-d204-19da0318061f"
      },
      "execution_count": null,
      "outputs": [
        {
          "output_type": "stream",
          "name": "stdout",
          "text": [
            "2944829.992894465\n",
            "1716.0506964814488\n"
          ]
        }
      ]
    },
    {
      "cell_type": "code",
      "source": [
        "from sklearn.metrics import r2_score\n",
        "print(r2_score(y_2_test, y_2_pred))"
      ],
      "metadata": {
        "colab": {
          "base_uri": "https://localhost:8080/"
        },
        "id": "K98a3ewkxNH5",
        "outputId": "0d190da9-4052-4158-d934-62ec95bb9960"
      },
      "execution_count": null,
      "outputs": [
        {
          "output_type": "stream",
          "name": "stdout",
          "text": [
            "0.9489763589634901\n"
          ]
        }
      ]
    },
    {
      "cell_type": "code",
      "source": [
        "ch4_prod.info()"
      ],
      "metadata": {
        "colab": {
          "base_uri": "https://localhost:8080/"
        },
        "id": "ElLFzpOgpS38",
        "outputId": "47aa065d-0d94-4826-ad0a-de17408f3ce8"
      },
      "execution_count": null,
      "outputs": [
        {
          "output_type": "stream",
          "name": "stdout",
          "text": [
            "<class 'pandas.core.frame.DataFrame'>\n",
            "Int64Index: 27 entries, 0 to 26\n",
            "Data columns (total 35 columns):\n",
            " #   Column                                                    Non-Null Count  Dtype  \n",
            "---  ------                                                    --------------  -----  \n",
            " 0   Year_x                                                    27 non-null     object \n",
            " 1   RICE_TONNE_HA                                             27 non-null     float64\n",
            " 2   RICE_THND_TONNE                                           27 non-null     float64\n",
            " 3   RICE_THND_HA                                              27 non-null     float64\n",
            " 4   WHEAT_TONNE_HA                                            27 non-null     float64\n",
            " 5   WHEAT_THND_TONNE                                          27 non-null     float64\n",
            " 6   WHEAT_THND_HA                                             27 non-null     float64\n",
            " 7   MAIZE_TONNE_HA                                            27 non-null     float64\n",
            " 8   MAIZE_THND_TONNE                                          27 non-null     float64\n",
            " 9   MAIZE_THND_HA                                             27 non-null     float64\n",
            " 10  SOYBEAN_TONNE_HA                                          27 non-null     float64\n",
            " 11  SOYBEAN_THND_TONNE                                        27 non-null     float64\n",
            " 12  SOYBEAN_THND_HA                                           27 non-null     float64\n",
            " 13  Enteric Fermentation_Emissions (CO2eq) from CH4 (AR5)     27 non-null     float64\n",
            " 14  Manure Management_Emissions (CO2eq) from CH4 (AR5)        27 non-null     float64\n",
            " 15  Manure Management_Emissions (CO2eq) from N2O (AR5)        27 non-null     float64\n",
            " 16  Rice Cultivation_Emissions (CO2eq) from CH4 (AR5)         27 non-null     float64\n",
            " 17  Synthetic Fertilizers_Emissions (CO2eq) from N2O (AR5)    27 non-null     float64\n",
            " 18  Manure applied to Soils_Emissions (CO2eq) from N2O (AR5)  27 non-null     float64\n",
            " 19  Crop Residues_Emissions (CO2eq) from N2O (AR5)            27 non-null     float64\n",
            " 20  On-farm energy use_Emissions (CO2)                        27 non-null     float64\n",
            " 21  On-farm energy use_Emissions (CO2eq) from CH4 (AR5)       27 non-null     float64\n",
            " 22  On-farm energy use_Emissions (CO2eq) from N2O (AR5)       27 non-null     float64\n",
            " 23  IPCC Agriculture_Emissions (CO2eq) from N2O (AR5)         27 non-null     float64\n",
            " 24  IPCC Agriculture_Emissions (CO2eq) (AR5)                  27 non-null     float64\n",
            " 25  LULUCF_Emissions (CO2)                                    27 non-null     float64\n",
            " 26  AFOLU_Emissions (CO2eq) from CH4 (AR5)                    27 non-null     float64\n",
            " 27  Emissions on agricultural land_Emissions (CO2)            27 non-null     float64\n",
            " 28  Farm-gate emissions_Emissions (CO2eq) (AR5)               27 non-null     float64\n",
            " 29  Year_y                                                    27 non-null     object \n",
            " 30  Enteric Fermentation_Emissions (CH4)                      27 non-null     float64\n",
            " 31  Manure Management_Emissions (CH4)                         27 non-null     float64\n",
            " 32  Rice Cultivation_Emissions (CH4)                          27 non-null     float64\n",
            " 33  On-farm energy use_Emissions (CH4)                        27 non-null     float64\n",
            " 34  AFOLU_Emissions (CH4)                                     27 non-null     float64\n",
            "dtypes: float64(33), object(2)\n",
            "memory usage: 7.6+ KB\n"
          ]
        }
      ]
    },
    {
      "cell_type": "markdown",
      "source": [
        "ch4 lin reg"
      ],
      "metadata": {
        "id": "0ZrCh4t8MR-r"
      }
    },
    {
      "cell_type": "code",
      "source": [
        "# X=ch4_prod.iloc[:,13:]\n",
        "X=ch4_prod[['On-farm energy use_Emissions (CH4)','IPCC Agriculture_Emissions (CO2eq) from N2O (AR5)','Emissions on agricultural land_Emissions (CO2)','Enteric Fermentation_Emissions (CH4)','Farm-gate emissions_Emissions (CO2eq) (AR5)']]\n",
        "#target\n",
        "y=ch4_prod[['RICE_TONNE_HA','WHEAT_TONNE_HA','MAIZE_TONNE_HA','SOYBEAN_TONNE_HA']].values\n",
        "\n",
        "X_train, X_test, y_train, y_test = train_test_split(X, y, test_size = 0.3, random_state = 21)\n",
        "sc = StandardScaler()\n",
        "X_train = sc.fit_transform(X_train)\n",
        "X_test = sc.transform(X_test)\n",
        "y_train = sc.fit_transform(y_train)\n",
        "y_test = sc.transform(y_test)"
      ],
      "metadata": {
        "id": "GrEZoAUqMTTM"
      },
      "execution_count": null,
      "outputs": []
    },
    {
      "cell_type": "code",
      "source": [
        "regr = LinearRegression()\n",
        "  \n",
        "regr.fit(X_train, y_train)\n",
        "print(regr.score(X_test, y_test))"
      ],
      "metadata": {
        "colab": {
          "base_uri": "https://localhost:8080/"
        },
        "id": "oCYOztX3M4WY",
        "outputId": "83b08807-ad9f-4172-a4af-c17047a1949c"
      },
      "execution_count": null,
      "outputs": [
        {
          "output_type": "stream",
          "name": "stdout",
          "text": [
            "0.7392566477705271\n"
          ]
        }
      ]
    },
    {
      "cell_type": "markdown",
      "source": [
        "Linear regression - CH4 larger data set"
      ],
      "metadata": {
        "id": "epOsasMby3Ba"
      }
    },
    {
      "cell_type": "code",
      "source": [
        "import pandas as pd\n",
        "import numpy as np\n",
        "ch4_prod_extended = pd.DataFrame(np.repeat(ch4_prod.values, 100, axis=0))\n",
        "ch4_prod_extended.columns = ch4_prod.columns"
      ],
      "metadata": {
        "id": "dKEaOzMFy7qM"
      },
      "execution_count": null,
      "outputs": []
    },
    {
      "cell_type": "code",
      "source": [
        "from sklearn.preprocessing import MinMaxScaler\n",
        "X_2=ch4_prod_extended.iloc[:,13:]\n",
        "#target\n",
        "y_2=ch4_prod_extended.iloc[:,1:12]#[['RICE_TONNE_HA']]#,'WHEAT_THND_TONNE','MAIZE_THND_TONNE','SOYBEAN_THND_TONNE']]\n",
        "\n",
        "from sklearn.preprocessing import StandardScaler\n",
        "X_2_train, X_2_test, y_2_train, y_2_test = train_test_split(X_2, y_2, test_size = 0.3, random_state = 21)\n",
        "sc = StandardScaler()\n",
        "X_2_train = sc.fit_transform(X_2_train)\n",
        "X_2_test = sc.transform(X_2_test)\n",
        "regr = LinearRegression()\n",
        "regr.fit(X_2_train, y_2_train)\n",
        "y_2_pred=regr.predict(X_2_test)\n",
        "print(regr.score(X_2_test, y_2_test))#r^2 score"
      ],
      "metadata": {
        "colab": {
          "base_uri": "https://localhost:8080/"
        },
        "id": "fGsCUX3PzJmv",
        "outputId": "603895e4-dc1d-4c3a-d625-698a63e5b7fc"
      },
      "execution_count": null,
      "outputs": [
        {
          "output_type": "stream",
          "name": "stdout",
          "text": [
            "0.9751746702323921\n"
          ]
        }
      ]
    },
    {
      "cell_type": "code",
      "source": [
        "import math\n",
        "from sklearn.metrics import mean_squared_error\n",
        "print(mean_squared_error(y_2_test, y_2_pred))\n",
        "print(math.sqrt(mean_squared_error(y_2_test, y_2_pred)))"
      ],
      "metadata": {
        "colab": {
          "base_uri": "https://localhost:8080/"
        },
        "id": "49jGLQEgzX8f",
        "outputId": "cf5deb7a-0020-4039-bf2e-cf1981391175"
      },
      "execution_count": null,
      "outputs": [
        {
          "output_type": "stream",
          "name": "stdout",
          "text": [
            "1614961.321975725\n",
            "1270.8112849576546\n"
          ]
        }
      ]
    },
    {
      "cell_type": "code",
      "source": [
        "from sklearn.metrics import r2_score\n",
        "print(r2_score(y_2_test, y_2_pred))"
      ],
      "metadata": {
        "colab": {
          "base_uri": "https://localhost:8080/"
        },
        "id": "Tsp8TDajzNFe",
        "outputId": "2c409007-45ba-48a8-eac6-9652169b84b2"
      },
      "execution_count": null,
      "outputs": [
        {
          "output_type": "stream",
          "name": "stdout",
          "text": [
            "0.9751746702323921\n"
          ]
        }
      ]
    },
    {
      "cell_type": "markdown",
      "source": [
        "n20"
      ],
      "metadata": {
        "id": "XONsAc8uNH-8"
      }
    },
    {
      "cell_type": "code",
      "source": [
        "X=n20_prod.iloc[:,13:]\n",
        "#target\n",
        "y=n20_prod[['RICE_TONNE_HA','WHEAT_TONNE_HA','MAIZE_TONNE_HA','SOYBEAN_TONNE_HA']].values\n",
        "\n",
        "X_train, X_test, y_train, y_test = train_test_split(X, y, test_size = 0.3, random_state = 21)\n",
        "sc = StandardScaler()\n",
        "X_train = sc.fit_transform(X_train)\n",
        "X_test = sc.transform(X_test)\n",
        "y_train = sc.fit_transform(y_train)\n",
        "y_test = sc.transform(y_test)"
      ],
      "metadata": {
        "id": "kgA0QMXfNK7S"
      },
      "execution_count": null,
      "outputs": []
    },
    {
      "cell_type": "code",
      "source": [
        "regr = LinearRegression()\n",
        "  \n",
        "regr.fit(X_train, y_train)\n",
        "print(regr.score(X_test, y_test))"
      ],
      "metadata": {
        "colab": {
          "base_uri": "https://localhost:8080/"
        },
        "outputId": "0bc18c39-3847-4493-c7ad-b5120284f8ca",
        "id": "Op7mUZ7XNK7T"
      },
      "execution_count": null,
      "outputs": [
        {
          "output_type": "stream",
          "name": "stdout",
          "text": [
            "-16.931230672734642\n"
          ]
        }
      ]
    },
    {
      "cell_type": "code",
      "source": [
        "ch4_prod.info()"
      ],
      "metadata": {
        "colab": {
          "base_uri": "https://localhost:8080/"
        },
        "id": "juSJOc1iMZs6",
        "outputId": "f41a895a-f4f9-4dd6-ef03-0922af54755c"
      },
      "execution_count": null,
      "outputs": [
        {
          "output_type": "stream",
          "name": "stdout",
          "text": [
            "<class 'pandas.core.frame.DataFrame'>\n",
            "Int64Index: 27 entries, 0 to 26\n",
            "Data columns (total 35 columns):\n",
            " #   Column                                                    Non-Null Count  Dtype  \n",
            "---  ------                                                    --------------  -----  \n",
            " 0   Year_x                                                    27 non-null     object \n",
            " 1   RICE_TONNE_HA                                             27 non-null     float64\n",
            " 2   RICE_THND_TONNE                                           27 non-null     float64\n",
            " 3   RICE_THND_HA                                              27 non-null     float64\n",
            " 4   WHEAT_TONNE_HA                                            27 non-null     float64\n",
            " 5   WHEAT_THND_TONNE                                          27 non-null     float64\n",
            " 6   WHEAT_THND_HA                                             27 non-null     float64\n",
            " 7   MAIZE_TONNE_HA                                            27 non-null     float64\n",
            " 8   MAIZE_THND_TONNE                                          27 non-null     float64\n",
            " 9   MAIZE_THND_HA                                             27 non-null     float64\n",
            " 10  SOYBEAN_TONNE_HA                                          27 non-null     float64\n",
            " 11  SOYBEAN_THND_TONNE                                        27 non-null     float64\n",
            " 12  SOYBEAN_THND_HA                                           27 non-null     float64\n",
            " 13  Enteric Fermentation_Emissions (CO2eq) from CH4 (AR5)     27 non-null     float64\n",
            " 14  Manure Management_Emissions (CO2eq) from CH4 (AR5)        27 non-null     float64\n",
            " 15  Manure Management_Emissions (CO2eq) from N2O (AR5)        27 non-null     float64\n",
            " 16  Rice Cultivation_Emissions (CO2eq) from CH4 (AR5)         27 non-null     float64\n",
            " 17  Synthetic Fertilizers_Emissions (CO2eq) from N2O (AR5)    27 non-null     float64\n",
            " 18  Manure applied to Soils_Emissions (CO2eq) from N2O (AR5)  27 non-null     float64\n",
            " 19  Crop Residues_Emissions (CO2eq) from N2O (AR5)            27 non-null     float64\n",
            " 20  On-farm energy use_Emissions (CO2)                        27 non-null     float64\n",
            " 21  On-farm energy use_Emissions (CO2eq) from CH4 (AR5)       27 non-null     float64\n",
            " 22  On-farm energy use_Emissions (CO2eq) from N2O (AR5)       27 non-null     float64\n",
            " 23  IPCC Agriculture_Emissions (CO2eq) from N2O (AR5)         27 non-null     float64\n",
            " 24  IPCC Agriculture_Emissions (CO2eq) (AR5)                  27 non-null     float64\n",
            " 25  LULUCF_Emissions (CO2)                                    27 non-null     float64\n",
            " 26  AFOLU_Emissions (CO2eq) from CH4 (AR5)                    27 non-null     float64\n",
            " 27  Emissions on agricultural land_Emissions (CO2)            27 non-null     float64\n",
            " 28  Farm-gate emissions_Emissions (CO2eq) (AR5)               27 non-null     float64\n",
            " 29  Year_y                                                    27 non-null     object \n",
            " 30  Enteric Fermentation_Emissions (CH4)                      27 non-null     float64\n",
            " 31  Manure Management_Emissions (CH4)                         27 non-null     float64\n",
            " 32  Rice Cultivation_Emissions (CH4)                          27 non-null     float64\n",
            " 33  On-farm energy use_Emissions (CH4)                        27 non-null     float64\n",
            " 34  AFOLU_Emissions (CH4)                                     27 non-null     float64\n",
            "dtypes: float64(33), object(2)\n",
            "memory usage: 7.6+ KB\n"
          ]
        }
      ]
    },
    {
      "cell_type": "code",
      "source": [
        "ch4_prod.head(2)"
      ],
      "metadata": {
        "colab": {
          "base_uri": "https://localhost:8080/",
          "height": 228
        },
        "id": "J-CZonDTMhIF",
        "outputId": "8ef2810d-a047-4590-fc47-fc3d288e6bf3"
      },
      "execution_count": null,
      "outputs": [
        {
          "output_type": "execute_result",
          "data": {
            "text/plain": [
              "  Year_x  RICE_TONNE_HA  RICE_THND_TONNE  RICE_THND_HA  WHEAT_TONNE_HA  \\\n",
              "0   1990       4.313679      4928.082909   1142.431401        2.656879   \n",
              "1   1991       4.468591      5029.107031   1125.434547        2.303895   \n",
              "\n",
              "   WHEAT_THND_TONNE  WHEAT_THND_HA  MAIZE_TONNE_HA  MAIZE_THND_TONNE  \\\n",
              "0        74296.9584        27964.0        7.433033        201539.468   \n",
              "1        53890.4016        23391.0        6.819797        189879.950   \n",
              "\n",
              "   MAIZE_THND_HA  SOYBEAN_TONNE_HA  SOYBEAN_THND_TONNE  SOYBEAN_THND_HA  \\\n",
              "0     27114.0290           2.29240          52415.2944       22864.8155   \n",
              "1     27842.4656           2.30338          54064.5840       23471.8460   \n",
              "\n",
              "  Year_y  Enteric Fermentation_Emissions (CH4)  \\\n",
              "0   1990                             6100.8210   \n",
              "1   1991                             6123.3945   \n",
              "\n",
              "   Manure Management_Emissions (CH4)  Rice Cultivation_Emissions (CH4)  \\\n",
              "0                          1245.5765                           399.840   \n",
              "1                          1282.2683                           393.904   \n",
              "\n",
              "   On-farm energy use_Emissions (CH4)  AFOLU_Emissions (CH4)  \n",
              "0                             20.5394              8777.3315  \n",
              "1                             20.3694              8827.8130  "
            ],
            "text/html": [
              "\n",
              "  <div id=\"df-ca915499-97e1-4aaf-aa3d-3dde4f89b7f7\">\n",
              "    <div class=\"colab-df-container\">\n",
              "      <div>\n",
              "<style scoped>\n",
              "    .dataframe tbody tr th:only-of-type {\n",
              "        vertical-align: middle;\n",
              "    }\n",
              "\n",
              "    .dataframe tbody tr th {\n",
              "        vertical-align: top;\n",
              "    }\n",
              "\n",
              "    .dataframe thead th {\n",
              "        text-align: right;\n",
              "    }\n",
              "</style>\n",
              "<table border=\"1\" class=\"dataframe\">\n",
              "  <thead>\n",
              "    <tr style=\"text-align: right;\">\n",
              "      <th></th>\n",
              "      <th>Year_x</th>\n",
              "      <th>RICE_TONNE_HA</th>\n",
              "      <th>RICE_THND_TONNE</th>\n",
              "      <th>RICE_THND_HA</th>\n",
              "      <th>WHEAT_TONNE_HA</th>\n",
              "      <th>WHEAT_THND_TONNE</th>\n",
              "      <th>WHEAT_THND_HA</th>\n",
              "      <th>MAIZE_TONNE_HA</th>\n",
              "      <th>MAIZE_THND_TONNE</th>\n",
              "      <th>MAIZE_THND_HA</th>\n",
              "      <th>SOYBEAN_TONNE_HA</th>\n",
              "      <th>SOYBEAN_THND_TONNE</th>\n",
              "      <th>SOYBEAN_THND_HA</th>\n",
              "      <th>Year_y</th>\n",
              "      <th>Enteric Fermentation_Emissions (CH4)</th>\n",
              "      <th>Manure Management_Emissions (CH4)</th>\n",
              "      <th>Rice Cultivation_Emissions (CH4)</th>\n",
              "      <th>On-farm energy use_Emissions (CH4)</th>\n",
              "      <th>AFOLU_Emissions (CH4)</th>\n",
              "    </tr>\n",
              "  </thead>\n",
              "  <tbody>\n",
              "    <tr>\n",
              "      <th>0</th>\n",
              "      <td>1990</td>\n",
              "      <td>4.313679</td>\n",
              "      <td>4928.082909</td>\n",
              "      <td>1142.431401</td>\n",
              "      <td>2.656879</td>\n",
              "      <td>74296.9584</td>\n",
              "      <td>27964.0</td>\n",
              "      <td>7.433033</td>\n",
              "      <td>201539.468</td>\n",
              "      <td>27114.0290</td>\n",
              "      <td>2.29240</td>\n",
              "      <td>52415.2944</td>\n",
              "      <td>22864.8155</td>\n",
              "      <td>1990</td>\n",
              "      <td>6100.8210</td>\n",
              "      <td>1245.5765</td>\n",
              "      <td>399.840</td>\n",
              "      <td>20.5394</td>\n",
              "      <td>8777.3315</td>\n",
              "    </tr>\n",
              "    <tr>\n",
              "      <th>1</th>\n",
              "      <td>1991</td>\n",
              "      <td>4.468591</td>\n",
              "      <td>5029.107031</td>\n",
              "      <td>1125.434547</td>\n",
              "      <td>2.303895</td>\n",
              "      <td>53890.4016</td>\n",
              "      <td>23391.0</td>\n",
              "      <td>6.819797</td>\n",
              "      <td>189879.950</td>\n",
              "      <td>27842.4656</td>\n",
              "      <td>2.30338</td>\n",
              "      <td>54064.5840</td>\n",
              "      <td>23471.8460</td>\n",
              "      <td>1991</td>\n",
              "      <td>6123.3945</td>\n",
              "      <td>1282.2683</td>\n",
              "      <td>393.904</td>\n",
              "      <td>20.3694</td>\n",
              "      <td>8827.8130</td>\n",
              "    </tr>\n",
              "  </tbody>\n",
              "</table>\n",
              "</div>\n",
              "      <button class=\"colab-df-convert\" onclick=\"convertToInteractive('df-ca915499-97e1-4aaf-aa3d-3dde4f89b7f7')\"\n",
              "              title=\"Convert this dataframe to an interactive table.\"\n",
              "              style=\"display:none;\">\n",
              "        \n",
              "  <svg xmlns=\"http://www.w3.org/2000/svg\" height=\"24px\"viewBox=\"0 0 24 24\"\n",
              "       width=\"24px\">\n",
              "    <path d=\"M0 0h24v24H0V0z\" fill=\"none\"/>\n",
              "    <path d=\"M18.56 5.44l.94 2.06.94-2.06 2.06-.94-2.06-.94-.94-2.06-.94 2.06-2.06.94zm-11 1L8.5 8.5l.94-2.06 2.06-.94-2.06-.94L8.5 2.5l-.94 2.06-2.06.94zm10 10l.94 2.06.94-2.06 2.06-.94-2.06-.94-.94-2.06-.94 2.06-2.06.94z\"/><path d=\"M17.41 7.96l-1.37-1.37c-.4-.4-.92-.59-1.43-.59-.52 0-1.04.2-1.43.59L10.3 9.45l-7.72 7.72c-.78.78-.78 2.05 0 2.83L4 21.41c.39.39.9.59 1.41.59.51 0 1.02-.2 1.41-.59l7.78-7.78 2.81-2.81c.8-.78.8-2.07 0-2.86zM5.41 20L4 18.59l7.72-7.72 1.47 1.35L5.41 20z\"/>\n",
              "  </svg>\n",
              "      </button>\n",
              "      \n",
              "  <style>\n",
              "    .colab-df-container {\n",
              "      display:flex;\n",
              "      flex-wrap:wrap;\n",
              "      gap: 12px;\n",
              "    }\n",
              "\n",
              "    .colab-df-convert {\n",
              "      background-color: #E8F0FE;\n",
              "      border: none;\n",
              "      border-radius: 50%;\n",
              "      cursor: pointer;\n",
              "      display: none;\n",
              "      fill: #1967D2;\n",
              "      height: 32px;\n",
              "      padding: 0 0 0 0;\n",
              "      width: 32px;\n",
              "    }\n",
              "\n",
              "    .colab-df-convert:hover {\n",
              "      background-color: #E2EBFA;\n",
              "      box-shadow: 0px 1px 2px rgba(60, 64, 67, 0.3), 0px 1px 3px 1px rgba(60, 64, 67, 0.15);\n",
              "      fill: #174EA6;\n",
              "    }\n",
              "\n",
              "    [theme=dark] .colab-df-convert {\n",
              "      background-color: #3B4455;\n",
              "      fill: #D2E3FC;\n",
              "    }\n",
              "\n",
              "    [theme=dark] .colab-df-convert:hover {\n",
              "      background-color: #434B5C;\n",
              "      box-shadow: 0px 1px 3px 1px rgba(0, 0, 0, 0.15);\n",
              "      filter: drop-shadow(0px 1px 2px rgba(0, 0, 0, 0.3));\n",
              "      fill: #FFFFFF;\n",
              "    }\n",
              "  </style>\n",
              "\n",
              "      <script>\n",
              "        const buttonEl =\n",
              "          document.querySelector('#df-ca915499-97e1-4aaf-aa3d-3dde4f89b7f7 button.colab-df-convert');\n",
              "        buttonEl.style.display =\n",
              "          google.colab.kernel.accessAllowed ? 'block' : 'none';\n",
              "\n",
              "        async function convertToInteractive(key) {\n",
              "          const element = document.querySelector('#df-ca915499-97e1-4aaf-aa3d-3dde4f89b7f7');\n",
              "          const dataTable =\n",
              "            await google.colab.kernel.invokeFunction('convertToInteractive',\n",
              "                                                     [key], {});\n",
              "          if (!dataTable) return;\n",
              "\n",
              "          const docLinkHtml = 'Like what you see? Visit the ' +\n",
              "            '<a target=\"_blank\" href=https://colab.research.google.com/notebooks/data_table.ipynb>data table notebook</a>'\n",
              "            + ' to learn more about interactive tables.';\n",
              "          element.innerHTML = '';\n",
              "          dataTable['output_type'] = 'display_data';\n",
              "          await google.colab.output.renderOutput(dataTable, element);\n",
              "          const docLink = document.createElement('div');\n",
              "          docLink.innerHTML = docLinkHtml;\n",
              "          element.appendChild(docLink);\n",
              "        }\n",
              "      </script>\n",
              "    </div>\n",
              "  </div>\n",
              "  "
            ]
          },
          "metadata": {},
          "execution_count": 129
        }
      ]
    },
    {
      "cell_type": "markdown",
      "source": [
        "bayseain ridge"
      ],
      "metadata": {
        "id": "Onyoi4BXQFez"
      }
    },
    {
      "cell_type": "code",
      "source": [
        "from sklearn.linear_model import Ridge"
      ],
      "metadata": {
        "id": "hzEDCefiebKN"
      },
      "execution_count": null,
      "outputs": []
    },
    {
      "cell_type": "code",
      "source": [
        "c02_prod.iloc[:,1:12].head(2)"
      ],
      "metadata": {
        "colab": {
          "base_uri": "https://localhost:8080/",
          "height": 176
        },
        "id": "v_TsNXGroaNA",
        "outputId": "939d74b4-0210-4229-ca5a-56bf698043e0"
      },
      "execution_count": null,
      "outputs": [
        {
          "output_type": "execute_result",
          "data": {
            "text/plain": [
              "   RICE_TONNE_HA  RICE_THND_TONNE  RICE_THND_HA  WHEAT_TONNE_HA  \\\n",
              "0       4.313679      4928.082909   1142.431401        2.656879   \n",
              "1       4.468591      5029.107031   1125.434547        2.303895   \n",
              "\n",
              "   WHEAT_THND_TONNE  WHEAT_THND_HA  MAIZE_TONNE_HA  MAIZE_THND_TONNE  \\\n",
              "0        74296.9584        27964.0        7.433033        201539.468   \n",
              "1        53890.4016        23391.0        6.819797        189879.950   \n",
              "\n",
              "   MAIZE_THND_HA  SOYBEAN_TONNE_HA  SOYBEAN_THND_TONNE  \n",
              "0     27114.0290           2.29240          52415.2944  \n",
              "1     27842.4656           2.30338          54064.5840  "
            ],
            "text/html": [
              "\n",
              "  <div id=\"df-b6d93821-5c2d-4111-bf7b-f88d710ff7eb\">\n",
              "    <div class=\"colab-df-container\">\n",
              "      <div>\n",
              "<style scoped>\n",
              "    .dataframe tbody tr th:only-of-type {\n",
              "        vertical-align: middle;\n",
              "    }\n",
              "\n",
              "    .dataframe tbody tr th {\n",
              "        vertical-align: top;\n",
              "    }\n",
              "\n",
              "    .dataframe thead th {\n",
              "        text-align: right;\n",
              "    }\n",
              "</style>\n",
              "<table border=\"1\" class=\"dataframe\">\n",
              "  <thead>\n",
              "    <tr style=\"text-align: right;\">\n",
              "      <th></th>\n",
              "      <th>RICE_TONNE_HA</th>\n",
              "      <th>RICE_THND_TONNE</th>\n",
              "      <th>RICE_THND_HA</th>\n",
              "      <th>WHEAT_TONNE_HA</th>\n",
              "      <th>WHEAT_THND_TONNE</th>\n",
              "      <th>WHEAT_THND_HA</th>\n",
              "      <th>MAIZE_TONNE_HA</th>\n",
              "      <th>MAIZE_THND_TONNE</th>\n",
              "      <th>MAIZE_THND_HA</th>\n",
              "      <th>SOYBEAN_TONNE_HA</th>\n",
              "      <th>SOYBEAN_THND_TONNE</th>\n",
              "    </tr>\n",
              "  </thead>\n",
              "  <tbody>\n",
              "    <tr>\n",
              "      <th>0</th>\n",
              "      <td>4.313679</td>\n",
              "      <td>4928.082909</td>\n",
              "      <td>1142.431401</td>\n",
              "      <td>2.656879</td>\n",
              "      <td>74296.9584</td>\n",
              "      <td>27964.0</td>\n",
              "      <td>7.433033</td>\n",
              "      <td>201539.468</td>\n",
              "      <td>27114.0290</td>\n",
              "      <td>2.29240</td>\n",
              "      <td>52415.2944</td>\n",
              "    </tr>\n",
              "    <tr>\n",
              "      <th>1</th>\n",
              "      <td>4.468591</td>\n",
              "      <td>5029.107031</td>\n",
              "      <td>1125.434547</td>\n",
              "      <td>2.303895</td>\n",
              "      <td>53890.4016</td>\n",
              "      <td>23391.0</td>\n",
              "      <td>6.819797</td>\n",
              "      <td>189879.950</td>\n",
              "      <td>27842.4656</td>\n",
              "      <td>2.30338</td>\n",
              "      <td>54064.5840</td>\n",
              "    </tr>\n",
              "  </tbody>\n",
              "</table>\n",
              "</div>\n",
              "      <button class=\"colab-df-convert\" onclick=\"convertToInteractive('df-b6d93821-5c2d-4111-bf7b-f88d710ff7eb')\"\n",
              "              title=\"Convert this dataframe to an interactive table.\"\n",
              "              style=\"display:none;\">\n",
              "        \n",
              "  <svg xmlns=\"http://www.w3.org/2000/svg\" height=\"24px\"viewBox=\"0 0 24 24\"\n",
              "       width=\"24px\">\n",
              "    <path d=\"M0 0h24v24H0V0z\" fill=\"none\"/>\n",
              "    <path d=\"M18.56 5.44l.94 2.06.94-2.06 2.06-.94-2.06-.94-.94-2.06-.94 2.06-2.06.94zm-11 1L8.5 8.5l.94-2.06 2.06-.94-2.06-.94L8.5 2.5l-.94 2.06-2.06.94zm10 10l.94 2.06.94-2.06 2.06-.94-2.06-.94-.94-2.06-.94 2.06-2.06.94z\"/><path d=\"M17.41 7.96l-1.37-1.37c-.4-.4-.92-.59-1.43-.59-.52 0-1.04.2-1.43.59L10.3 9.45l-7.72 7.72c-.78.78-.78 2.05 0 2.83L4 21.41c.39.39.9.59 1.41.59.51 0 1.02-.2 1.41-.59l7.78-7.78 2.81-2.81c.8-.78.8-2.07 0-2.86zM5.41 20L4 18.59l7.72-7.72 1.47 1.35L5.41 20z\"/>\n",
              "  </svg>\n",
              "      </button>\n",
              "      \n",
              "  <style>\n",
              "    .colab-df-container {\n",
              "      display:flex;\n",
              "      flex-wrap:wrap;\n",
              "      gap: 12px;\n",
              "    }\n",
              "\n",
              "    .colab-df-convert {\n",
              "      background-color: #E8F0FE;\n",
              "      border: none;\n",
              "      border-radius: 50%;\n",
              "      cursor: pointer;\n",
              "      display: none;\n",
              "      fill: #1967D2;\n",
              "      height: 32px;\n",
              "      padding: 0 0 0 0;\n",
              "      width: 32px;\n",
              "    }\n",
              "\n",
              "    .colab-df-convert:hover {\n",
              "      background-color: #E2EBFA;\n",
              "      box-shadow: 0px 1px 2px rgba(60, 64, 67, 0.3), 0px 1px 3px 1px rgba(60, 64, 67, 0.15);\n",
              "      fill: #174EA6;\n",
              "    }\n",
              "\n",
              "    [theme=dark] .colab-df-convert {\n",
              "      background-color: #3B4455;\n",
              "      fill: #D2E3FC;\n",
              "    }\n",
              "\n",
              "    [theme=dark] .colab-df-convert:hover {\n",
              "      background-color: #434B5C;\n",
              "      box-shadow: 0px 1px 3px 1px rgba(0, 0, 0, 0.15);\n",
              "      filter: drop-shadow(0px 1px 2px rgba(0, 0, 0, 0.3));\n",
              "      fill: #FFFFFF;\n",
              "    }\n",
              "  </style>\n",
              "\n",
              "      <script>\n",
              "        const buttonEl =\n",
              "          document.querySelector('#df-b6d93821-5c2d-4111-bf7b-f88d710ff7eb button.colab-df-convert');\n",
              "        buttonEl.style.display =\n",
              "          google.colab.kernel.accessAllowed ? 'block' : 'none';\n",
              "\n",
              "        async function convertToInteractive(key) {\n",
              "          const element = document.querySelector('#df-b6d93821-5c2d-4111-bf7b-f88d710ff7eb');\n",
              "          const dataTable =\n",
              "            await google.colab.kernel.invokeFunction('convertToInteractive',\n",
              "                                                     [key], {});\n",
              "          if (!dataTable) return;\n",
              "\n",
              "          const docLinkHtml = 'Like what you see? Visit the ' +\n",
              "            '<a target=\"_blank\" href=https://colab.research.google.com/notebooks/data_table.ipynb>data table notebook</a>'\n",
              "            + ' to learn more about interactive tables.';\n",
              "          element.innerHTML = '';\n",
              "          dataTable['output_type'] = 'display_data';\n",
              "          await google.colab.output.renderOutput(dataTable, element);\n",
              "          const docLink = document.createElement('div');\n",
              "          docLink.innerHTML = docLinkHtml;\n",
              "          element.appendChild(docLink);\n",
              "        }\n",
              "      </script>\n",
              "    </div>\n",
              "  </div>\n",
              "  "
            ]
          },
          "metadata": {},
          "execution_count": 31
        }
      ]
    },
    {
      "cell_type": "code",
      "source": [
        "X=c02_prod.iloc[:,13:]\n",
        "#target\n",
        "y=c02_prod.iloc[:,1:12]#[['RICE_TONNE_HA']]#,'WHEAT_THND_TONNE','MAIZE_THND_TONNE','SOYBEAN_THND_TONNE']]\n",
        "\n",
        "from sklearn.preprocessing import StandardScaler\n",
        "X_train, X_test, y_train, y_test = train_test_split(X, y, test_size = 0.25, random_state = 21)\n",
        "# sc = StandardScaler()\n",
        "# X_train = sc.fit_transform(X_train)\n",
        "# X_test = sc.transform(X_test)"
      ],
      "metadata": {
        "id": "vsJhMnqMeifK"
      },
      "execution_count": null,
      "outputs": []
    },
    {
      "cell_type": "code",
      "source": [
        "rdg=Ridge(alpha=2.0).fit(X_train,y_train)"
      ],
      "metadata": {
        "id": "e1Ugt8GCfA4k"
      },
      "execution_count": null,
      "outputs": []
    },
    {
      "cell_type": "code",
      "source": [
        "print(rdg.score(X_train, y_train))\n",
        "print(rdg.score(X_test, y_test))"
      ],
      "metadata": {
        "colab": {
          "base_uri": "https://localhost:8080/"
        },
        "id": "odwnD2jofxHA",
        "outputId": "18336d03-5c4e-4c83-e9d1-0ac31423187e"
      },
      "execution_count": null,
      "outputs": [
        {
          "output_type": "stream",
          "name": "stdout",
          "text": [
            "0.9737884287684321\n",
            "0.4086132045327217\n"
          ]
        }
      ]
    },
    {
      "cell_type": "code",
      "source": [
        "from sklearn.metrics import mean_squared_error\n",
        "ypred = rdg.predict(X_test)\n",
        "mse = mean_squared_error(y_test, ypred)\n",
        "print(\"MSE: %.2f\" % mse)\n",
        "rmse = mse**.5\n",
        "print(rmse)"
      ],
      "metadata": {
        "colab": {
          "base_uri": "https://localhost:8080/"
        },
        "id": "KngkfnNxRSyc",
        "outputId": "0db52729-d949-4a07-a47a-41ef789994ed"
      },
      "execution_count": null,
      "outputs": [
        {
          "output_type": "stream",
          "name": "stdout",
          "text": [
            "MSE: 26259302.98\n",
            "5124.383180338489\n"
          ]
        }
      ]
    },
    {
      "cell_type": "markdown",
      "source": [
        "Bayesian ridge - large data set"
      ],
      "metadata": {
        "id": "jtIU4U0nzjJ8"
      }
    },
    {
      "cell_type": "code",
      "source": [
        "import pandas as pd\n",
        "import numpy as np\n",
        "c02_prod_extended = pd.DataFrame(np.repeat(c02_prod.values, 100, axis=0))\n",
        "c02_prod_extended.columns = c02_prod.columns"
      ],
      "metadata": {
        "id": "fj_hdaiLziQV"
      },
      "execution_count": null,
      "outputs": []
    },
    {
      "cell_type": "code",
      "source": [
        "from sklearn.linear_model import Ridge\n",
        "X=c02_prod_extended.iloc[:,13:]\n",
        "#target\n",
        "y=c02_prod_extended.iloc[:,1:12]#[['RICE_TONNE_HA']]#,'WHEAT_THND_TONNE','MAIZE_THND_TONNE','SOYBEAN_THND_TONNE']]\n",
        "\n",
        "from sklearn.preprocessing import StandardScaler\n",
        "X_train, X_test, y_train, y_test = train_test_split(X, y, test_size = 0.25, random_state = 21)\n",
        "# sc = StandardScaler()\n",
        "# X_train = sc.fit_transform(X_train)\n",
        "# X_test = sc.transform(X_test)\n",
        "rdg=Ridge(alpha=2.0).fit(X_train,y_train)\n",
        "print(rdg.score(X_train, y_train))\n",
        "print(rdg.score(X_test, y_test))"
      ],
      "metadata": {
        "colab": {
          "base_uri": "https://localhost:8080/"
        },
        "id": "fyZLGkG8zyO6",
        "outputId": "e6429814-e968-44c2-d62e-9c3a4f2984f4"
      },
      "execution_count": null,
      "outputs": [
        {
          "output_type": "stream",
          "name": "stdout",
          "text": [
            "0.9491789260321581\n",
            "0.9491417486609106\n"
          ]
        }
      ]
    },
    {
      "cell_type": "code",
      "source": [
        "from sklearn.metrics import mean_squared_error\n",
        "ypred = rdg.predict(X_test)\n",
        "mse = mean_squared_error(y_test, ypred)\n",
        "print(\"MSE: %.2f\" % mse)\n",
        "rmse = mse**.5\n",
        "print(rmse)"
      ],
      "metadata": {
        "colab": {
          "base_uri": "https://localhost:8080/"
        },
        "id": "-gnBCXtTz9fb",
        "outputId": "443e81d1-f513-4aac-92cc-543b8bf39429"
      },
      "execution_count": null,
      "outputs": [
        {
          "output_type": "stream",
          "name": "stdout",
          "text": [
            "MSE: 2879671.69\n",
            "1696.9595429680085\n"
          ]
        }
      ]
    },
    {
      "cell_type": "code",
      "source": [
        "import matplotlib.pyplot as plt\n",
        "x_ax = range(len(y_test))\n",
        "plt.scatter(x_ax, y_test, s=5, color=\"blue\", label=\"original\")\n",
        "plt.plot(x_ax, rdg, lw=0.8, color=\"red\", label=\"predicted\")\n",
        "plt.legend()\n",
        "plt.show() "
      ],
      "metadata": {
        "id": "9-JZqIXCQel-",
        "colab": {
          "base_uri": "https://localhost:8080/",
          "height": 650
        },
        "outputId": "40803e67-3e77-418c-d090-84b4a88758b9"
      },
      "execution_count": null,
      "outputs": [
        {
          "output_type": "error",
          "ename": "ValueError",
          "evalue": "ignored",
          "traceback": [
            "\u001b[0;31m---------------------------------------------------------------------------\u001b[0m",
            "\u001b[0;31mValueError\u001b[0m                                Traceback (most recent call last)",
            "\u001b[0;32m<ipython-input-69-8f4b54bc42e4>\u001b[0m in \u001b[0;36m<module>\u001b[0;34m\u001b[0m\n\u001b[1;32m      1\u001b[0m \u001b[0;32mimport\u001b[0m \u001b[0mmatplotlib\u001b[0m\u001b[0;34m.\u001b[0m\u001b[0mpyplot\u001b[0m \u001b[0;32mas\u001b[0m \u001b[0mplt\u001b[0m\u001b[0;34m\u001b[0m\u001b[0;34m\u001b[0m\u001b[0m\n\u001b[1;32m      2\u001b[0m \u001b[0mx_ax\u001b[0m \u001b[0;34m=\u001b[0m \u001b[0mrange\u001b[0m\u001b[0;34m(\u001b[0m\u001b[0mlen\u001b[0m\u001b[0;34m(\u001b[0m\u001b[0my_test\u001b[0m\u001b[0;34m)\u001b[0m\u001b[0;34m)\u001b[0m\u001b[0;34m\u001b[0m\u001b[0;34m\u001b[0m\u001b[0m\n\u001b[0;32m----> 3\u001b[0;31m \u001b[0mplt\u001b[0m\u001b[0;34m.\u001b[0m\u001b[0mscatter\u001b[0m\u001b[0;34m(\u001b[0m\u001b[0mx_ax\u001b[0m\u001b[0;34m,\u001b[0m \u001b[0my_test\u001b[0m\u001b[0;34m,\u001b[0m \u001b[0ms\u001b[0m\u001b[0;34m=\u001b[0m\u001b[0;36m5\u001b[0m\u001b[0;34m,\u001b[0m \u001b[0mcolor\u001b[0m\u001b[0;34m=\u001b[0m\u001b[0;34m\"blue\"\u001b[0m\u001b[0;34m,\u001b[0m \u001b[0mlabel\u001b[0m\u001b[0;34m=\u001b[0m\u001b[0;34m\"original\"\u001b[0m\u001b[0;34m)\u001b[0m\u001b[0;34m\u001b[0m\u001b[0;34m\u001b[0m\u001b[0m\n\u001b[0m\u001b[1;32m      4\u001b[0m \u001b[0mplt\u001b[0m\u001b[0;34m.\u001b[0m\u001b[0mplot\u001b[0m\u001b[0;34m(\u001b[0m\u001b[0mx_ax\u001b[0m\u001b[0;34m,\u001b[0m \u001b[0mrdg\u001b[0m\u001b[0;34m,\u001b[0m \u001b[0mlw\u001b[0m\u001b[0;34m=\u001b[0m\u001b[0;36m0.8\u001b[0m\u001b[0;34m,\u001b[0m \u001b[0mcolor\u001b[0m\u001b[0;34m=\u001b[0m\u001b[0;34m\"red\"\u001b[0m\u001b[0;34m,\u001b[0m \u001b[0mlabel\u001b[0m\u001b[0;34m=\u001b[0m\u001b[0;34m\"predicted\"\u001b[0m\u001b[0;34m)\u001b[0m\u001b[0;34m\u001b[0m\u001b[0;34m\u001b[0m\u001b[0m\n\u001b[1;32m      5\u001b[0m \u001b[0mplt\u001b[0m\u001b[0;34m.\u001b[0m\u001b[0mlegend\u001b[0m\u001b[0;34m(\u001b[0m\u001b[0;34m)\u001b[0m\u001b[0;34m\u001b[0m\u001b[0;34m\u001b[0m\u001b[0m\n",
            "\u001b[0;32m/usr/local/lib/python3.8/dist-packages/matplotlib/pyplot.py\u001b[0m in \u001b[0;36mscatter\u001b[0;34m(x, y, s, c, marker, cmap, norm, vmin, vmax, alpha, linewidths, verts, edgecolors, plotnonfinite, data, **kwargs)\u001b[0m\n\u001b[1;32m   2809\u001b[0m         \u001b[0mverts\u001b[0m\u001b[0;34m=\u001b[0m\u001b[0mcbook\u001b[0m\u001b[0;34m.\u001b[0m\u001b[0mdeprecation\u001b[0m\u001b[0;34m.\u001b[0m\u001b[0m_deprecated_parameter\u001b[0m\u001b[0;34m,\u001b[0m\u001b[0;34m\u001b[0m\u001b[0;34m\u001b[0m\u001b[0m\n\u001b[1;32m   2810\u001b[0m         edgecolors=None, *, plotnonfinite=False, data=None, **kwargs):\n\u001b[0;32m-> 2811\u001b[0;31m     __ret = gca().scatter(\n\u001b[0m\u001b[1;32m   2812\u001b[0m         \u001b[0mx\u001b[0m\u001b[0;34m,\u001b[0m \u001b[0my\u001b[0m\u001b[0;34m,\u001b[0m \u001b[0ms\u001b[0m\u001b[0;34m=\u001b[0m\u001b[0ms\u001b[0m\u001b[0;34m,\u001b[0m \u001b[0mc\u001b[0m\u001b[0;34m=\u001b[0m\u001b[0mc\u001b[0m\u001b[0;34m,\u001b[0m \u001b[0mmarker\u001b[0m\u001b[0;34m=\u001b[0m\u001b[0mmarker\u001b[0m\u001b[0;34m,\u001b[0m \u001b[0mcmap\u001b[0m\u001b[0;34m=\u001b[0m\u001b[0mcmap\u001b[0m\u001b[0;34m,\u001b[0m \u001b[0mnorm\u001b[0m\u001b[0;34m=\u001b[0m\u001b[0mnorm\u001b[0m\u001b[0;34m,\u001b[0m\u001b[0;34m\u001b[0m\u001b[0;34m\u001b[0m\u001b[0m\n\u001b[1;32m   2813\u001b[0m         \u001b[0mvmin\u001b[0m\u001b[0;34m=\u001b[0m\u001b[0mvmin\u001b[0m\u001b[0;34m,\u001b[0m \u001b[0mvmax\u001b[0m\u001b[0;34m=\u001b[0m\u001b[0mvmax\u001b[0m\u001b[0;34m,\u001b[0m \u001b[0malpha\u001b[0m\u001b[0;34m=\u001b[0m\u001b[0malpha\u001b[0m\u001b[0;34m,\u001b[0m \u001b[0mlinewidths\u001b[0m\u001b[0;34m=\u001b[0m\u001b[0mlinewidths\u001b[0m\u001b[0;34m,\u001b[0m\u001b[0;34m\u001b[0m\u001b[0;34m\u001b[0m\u001b[0m\n",
            "\u001b[0;32m/usr/local/lib/python3.8/dist-packages/matplotlib/__init__.py\u001b[0m in \u001b[0;36minner\u001b[0;34m(ax, data, *args, **kwargs)\u001b[0m\n\u001b[1;32m   1563\u001b[0m     \u001b[0;32mdef\u001b[0m \u001b[0minner\u001b[0m\u001b[0;34m(\u001b[0m\u001b[0max\u001b[0m\u001b[0;34m,\u001b[0m \u001b[0;34m*\u001b[0m\u001b[0margs\u001b[0m\u001b[0;34m,\u001b[0m \u001b[0mdata\u001b[0m\u001b[0;34m=\u001b[0m\u001b[0;32mNone\u001b[0m\u001b[0;34m,\u001b[0m \u001b[0;34m**\u001b[0m\u001b[0mkwargs\u001b[0m\u001b[0;34m)\u001b[0m\u001b[0;34m:\u001b[0m\u001b[0;34m\u001b[0m\u001b[0;34m\u001b[0m\u001b[0m\n\u001b[1;32m   1564\u001b[0m         \u001b[0;32mif\u001b[0m \u001b[0mdata\u001b[0m \u001b[0;32mis\u001b[0m \u001b[0;32mNone\u001b[0m\u001b[0;34m:\u001b[0m\u001b[0;34m\u001b[0m\u001b[0;34m\u001b[0m\u001b[0m\n\u001b[0;32m-> 1565\u001b[0;31m             \u001b[0;32mreturn\u001b[0m \u001b[0mfunc\u001b[0m\u001b[0;34m(\u001b[0m\u001b[0max\u001b[0m\u001b[0;34m,\u001b[0m \u001b[0;34m*\u001b[0m\u001b[0mmap\u001b[0m\u001b[0;34m(\u001b[0m\u001b[0msanitize_sequence\u001b[0m\u001b[0;34m,\u001b[0m \u001b[0margs\u001b[0m\u001b[0;34m)\u001b[0m\u001b[0;34m,\u001b[0m \u001b[0;34m**\u001b[0m\u001b[0mkwargs\u001b[0m\u001b[0;34m)\u001b[0m\u001b[0;34m\u001b[0m\u001b[0;34m\u001b[0m\u001b[0m\n\u001b[0m\u001b[1;32m   1566\u001b[0m \u001b[0;34m\u001b[0m\u001b[0m\n\u001b[1;32m   1567\u001b[0m         \u001b[0mbound\u001b[0m \u001b[0;34m=\u001b[0m \u001b[0mnew_sig\u001b[0m\u001b[0;34m.\u001b[0m\u001b[0mbind\u001b[0m\u001b[0;34m(\u001b[0m\u001b[0max\u001b[0m\u001b[0;34m,\u001b[0m \u001b[0;34m*\u001b[0m\u001b[0margs\u001b[0m\u001b[0;34m,\u001b[0m \u001b[0;34m**\u001b[0m\u001b[0mkwargs\u001b[0m\u001b[0;34m)\u001b[0m\u001b[0;34m\u001b[0m\u001b[0;34m\u001b[0m\u001b[0m\n",
            "\u001b[0;32m/usr/local/lib/python3.8/dist-packages/matplotlib/cbook/deprecation.py\u001b[0m in \u001b[0;36mwrapper\u001b[0;34m(*args, **kwargs)\u001b[0m\n\u001b[1;32m    356\u001b[0m                 \u001b[0;34mf\"%(removal)s.  If any parameter follows {name!r}, they \"\u001b[0m\u001b[0;34m\u001b[0m\u001b[0;34m\u001b[0m\u001b[0m\n\u001b[1;32m    357\u001b[0m                 f\"should be pass as keyword, not positionally.\")\n\u001b[0;32m--> 358\u001b[0;31m         \u001b[0;32mreturn\u001b[0m \u001b[0mfunc\u001b[0m\u001b[0;34m(\u001b[0m\u001b[0;34m*\u001b[0m\u001b[0margs\u001b[0m\u001b[0;34m,\u001b[0m \u001b[0;34m**\u001b[0m\u001b[0mkwargs\u001b[0m\u001b[0;34m)\u001b[0m\u001b[0;34m\u001b[0m\u001b[0;34m\u001b[0m\u001b[0m\n\u001b[0m\u001b[1;32m    359\u001b[0m \u001b[0;34m\u001b[0m\u001b[0m\n\u001b[1;32m    360\u001b[0m     \u001b[0;32mreturn\u001b[0m \u001b[0mwrapper\u001b[0m\u001b[0;34m\u001b[0m\u001b[0;34m\u001b[0m\u001b[0m\n",
            "\u001b[0;32m/usr/local/lib/python3.8/dist-packages/matplotlib/axes/_axes.py\u001b[0m in \u001b[0;36mscatter\u001b[0;34m(self, x, y, s, c, marker, cmap, norm, vmin, vmax, alpha, linewidths, verts, edgecolors, plotnonfinite, **kwargs)\u001b[0m\n\u001b[1;32m   4389\u001b[0m         \u001b[0my\u001b[0m \u001b[0;34m=\u001b[0m \u001b[0mnp\u001b[0m\u001b[0;34m.\u001b[0m\u001b[0mma\u001b[0m\u001b[0;34m.\u001b[0m\u001b[0mravel\u001b[0m\u001b[0;34m(\u001b[0m\u001b[0my\u001b[0m\u001b[0;34m)\u001b[0m\u001b[0;34m\u001b[0m\u001b[0;34m\u001b[0m\u001b[0m\n\u001b[1;32m   4390\u001b[0m         \u001b[0;32mif\u001b[0m \u001b[0mx\u001b[0m\u001b[0;34m.\u001b[0m\u001b[0msize\u001b[0m \u001b[0;34m!=\u001b[0m \u001b[0my\u001b[0m\u001b[0;34m.\u001b[0m\u001b[0msize\u001b[0m\u001b[0;34m:\u001b[0m\u001b[0;34m\u001b[0m\u001b[0;34m\u001b[0m\u001b[0m\n\u001b[0;32m-> 4391\u001b[0;31m             \u001b[0;32mraise\u001b[0m \u001b[0mValueError\u001b[0m\u001b[0;34m(\u001b[0m\u001b[0;34m\"x and y must be the same size\"\u001b[0m\u001b[0;34m)\u001b[0m\u001b[0;34m\u001b[0m\u001b[0;34m\u001b[0m\u001b[0m\n\u001b[0m\u001b[1;32m   4392\u001b[0m \u001b[0;34m\u001b[0m\u001b[0m\n\u001b[1;32m   4393\u001b[0m         \u001b[0;32mif\u001b[0m \u001b[0ms\u001b[0m \u001b[0;32mis\u001b[0m \u001b[0;32mNone\u001b[0m\u001b[0;34m:\u001b[0m\u001b[0;34m\u001b[0m\u001b[0;34m\u001b[0m\u001b[0m\n",
            "\u001b[0;31mValueError\u001b[0m: x and y must be the same size"
          ]
        },
        {
          "output_type": "display_data",
          "data": {
            "text/plain": [
              "<Figure size 432x288 with 1 Axes>"
            ],
            "image/png": "[encoded data removed]"
          },
          "metadata": {
            "needs_background": "light"
          }
        }
      ]
    },
    {
      "cell_type": "code",
      "source": [
        "print(len(y_test))\n",
        "print(len(x_ax))"
      ],
      "metadata": {
        "colab": {
          "base_uri": "https://localhost:8080/"
        },
        "id": "wthozTkkQ1pr",
        "outputId": "daebf139-dfce-4d15-cded-4a21028a78e9"
      },
      "execution_count": null,
      "outputs": [
        {
          "output_type": "stream",
          "name": "stdout",
          "text": [
            "5\n",
            "5\n"
          ]
        }
      ]
    }
  ]
}