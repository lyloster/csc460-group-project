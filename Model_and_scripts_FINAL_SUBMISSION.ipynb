{
  "nbformat": 4,
  "nbformat_minor": 0,
  "metadata": {
    "colab": {
      "provenance": []
    },
    "kernelspec": {
      "name": "python3",
      "display_name": "Python 3"
    },
    "language_info": {
      "name": "python"
    }
  },
  "cells": [
    {
      "cell_type": "markdown",
      "source": [
        "This notebook contains all the scripts in the directory chained together. \n"
      ],
      "metadata": {
        "id": "ccTP91vSQ2jF"
      }
    },
    {
      "cell_type": "markdown",
      "source": [
        "Preprocessing.py"
      ],
      "metadata": {
        "id": "YZcHequTRAPZ"
      }
    },
    {
      "cell_type": "code",
      "source": [
        "import matplotlib.pyplot as plt\n",
        "import numpy as np\n",
        "THRESHOLD_MISSING = 5\n",
        "THRESHOLD_CORRELATION = 0.90\n",
        "FACTOR = 1000\n",
        "MU = 0\n",
        "SIGMA = 0.1\n",
        "\n",
        "def clean_FAOSTAT(df):\n",
        "    #keep data only from FAO TIER 1 source, original data contains data for same year but from multiple sources\n",
        "    #both sources have similar measurements\n",
        "    #FAO TIER 1 is more complete than UNFCCC\n",
        "    cleaned_df = df[df[\"Source Code\"] == 3050] #FAO TIER 1\n",
        "    #drop numeric codes that do not apply\n",
        "    cleaned_df = cleaned_df.drop(['Area Code', 'Item Code', 'Source Code', 'Source', 'Element Code'], axis=1)\n",
        "    #extract columns belonging to the USA\n",
        "    cleaned_df = cleaned_df[cleaned_df['Area'] == 'United States of America']\n",
        "    #rename Items column to Activity\n",
        "    cleaned_df.rename(columns={'Item':'Activity'}, inplace=True)\n",
        "    #reset the index\n",
        "    cleaned_df = cleaned_df.reset_index(drop=True)\n",
        "    return cleaned_df\n",
        "\n",
        "#Clean up the emissions dataframe consisting of only emission activity/element and year\n",
        "def create_emissions_frame(columns, df):\n",
        "    df['Emission'] = df[columns[0]].astype(str) + '_' + df[columns[1]]\n",
        "    df.drop(columns, axis=1, inplace=True)\n",
        "    df.insert(0,'Emission', df.pop('Emission'))\n",
        "    df = drop_year_no_data(df)\n",
        "    df = df.set_index('Emission').transpose().fillna(0).reset_index()\n",
        "    df['index'] = df['index'].str.lstrip('Y')\n",
        "    return df.rename(columns={'index':'Year'}).set_index('Year')\n",
        "\n",
        "#filter the emissions list to only contain the biggest contributers to argiculture\n",
        "def list_emissions(emission_name, emission_activity_and_type):\n",
        "    return list(filter(lambda emission: emission_name in emission[1],emission_activity_and_type))\n",
        "\n",
        "#Because Area and Unit are the same value in every row (USA, Kilotonnes respectively), I will drop those. Set the column indicies to Activity\n",
        "def create_emission_df(df, emission_list):\n",
        "    return df[df['Element'].isin([el[1] for el in emission_list])].drop(['Area', 'Unit'], axis=1).reset_index(drop=True)\n",
        "\n",
        "#drop columns where more than THRESHOLD_MISSING % of data is missing\n",
        "def drop_year_no_data(df):\n",
        "    #df columns currently are Year 19XX/2XXX\n",
        "    for column in df:\n",
        "        #if there is too much data missing for a particular year, drop it\n",
        "        #initial check showed most data prior to 1990 is missing & is effectively being dropped\n",
        "        if check_percent_data_missing(df[column]) > THRESHOLD_MISSING:\n",
        "            df.drop(column, axis=1, inplace=True)\n",
        "    return df\n",
        "\n",
        "#check % of data missing in each column\n",
        "def check_percent_data_missing(df):\n",
        "    return df.isnull().sum()/df.shape[0] * 100\n",
        "\n",
        "#a lot of data in set relates to emissions due to fires, keep emissions only related to agriculture\n",
        "def keep_agriculture_data(df):\n",
        "    columns_to_keep = []\n",
        "    for column in df:\n",
        "        if \"agricult\" in str(column).lower() or \"farm\" in str(column).lower():\n",
        "            columns_to_keep.append(str(column))\n",
        "    cleaned_df = df[columns_to_keep]\n",
        "    return cleaned_df\n",
        "\n",
        "#a lot of data in set relates to emissions due to fires, keep emissions only related to agriculture\n",
        "def remove_fire_data(df):\n",
        "    for column in df:\n",
        "        #LULUCF emissions are a metric of how much emissions are sunk by forests\n",
        "        if \"fire\" in str(column).lower() or \"burn\" in str(column).lower() or \"forest\" in str(column).lower() or \"LULUCF\" in str(column).lower():\n",
        "            df.drop(column, axis=1, inplace=True)\n",
        "    return df\n",
        "\n",
        "def drop_correlations(df):\n",
        "    # create correlation matrix\n",
        "    corr_matrix = df.corr().abs()\n",
        "    # select upper triangle of correlation matrix\n",
        "    upper = corr_matrix.where(np.triu(np.ones(corr_matrix.shape), k=1).astype(np.bool))\n",
        "    # find features with correlation greater than 0.95\n",
        "    to_drop = [column for column in upper.columns if any(upper[column] > THRESHOLD_CORRELATION)]\n",
        "    df.drop(to_drop, axis=1, inplace=True)\n",
        "    return df\n",
        "\n",
        "def merge_df (crops_df, emission_df, drop_columns):\n",
        "    #drop data from last 3 years, so that the crop yields and emission df year data matches\n",
        "    #1990-2016\n",
        "    emission_df.drop(emission_df.tail(3).index,inplace=True)\n",
        "    #reset index as column to merge on\n",
        "    emission_df = emission_df.reset_index(drop=False)\n",
        "    emission_crop_df=pd.merge(crops_df, emission_df, left_index=True, right_index=True)\n",
        "    emission_crop_df.drop(columns= drop_columns,inplace=True) \n",
        "    return emission_crop_df\n",
        "\n",
        "def augment_df(emission_crop_df):\n",
        "    #extend the df by a factor to compensate for small data set\n",
        "    emission_crop_extended = pd.DataFrame(np.repeat(emission_crop_df.values, FACTOR, axis=0))\n",
        "    emission_crop_extended.columns = emission_crop_df.columns\n",
        "    #add random Gaussian noise to all entries so that we are not working with exact copies of the data\n",
        "    np.random.seed(3)\n",
        "    noise = np.random.normal(MU, SIGMA, [emission_crop_extended.shape[0],emission_crop_extended.shape[1]])\n",
        "    emission_crop_noisy = emission_crop_extended.astype(float) + noise\n",
        "    return emission_crop_noisy"
      ],
      "metadata": {
        "id": "rerONV8HEQYb"
      },
      "execution_count": 8,
      "outputs": []
    },
    {
      "cell_type": "markdown",
      "source": [
        "Model.py"
      ],
      "metadata": {
        "id": "93rIxsomRDWI"
      }
    },
    {
      "cell_type": "code",
      "execution_count": 9,
      "metadata": {
        "id": "EiYPQpFvEKf_"
      },
      "outputs": [],
      "source": [
        "from sklearn.model_selection import train_test_split\n",
        "from sklearn.preprocessing import StandardScaler\n",
        "from sklearn.linear_model import LinearRegression\n",
        "from sklearn.metrics import mean_squared_error\n",
        "import math\n",
        "\n",
        "def run_model(df, features, labels):\n",
        "\tX = df[features]\n",
        "\ty = df[labels]\n",
        "\tX_train, X_test, y_train, y_test = train_test_split(X, y, test_size = 0.2, random_state = 21)\n",
        "\tsc = StandardScaler()\n",
        "\tX_train = sc.fit_transform(X_train)\n",
        "\tX_test = sc.transform(X_test)\n",
        "\tregr = LinearRegression()\n",
        "\tregr.fit(X_train, y_train)\n",
        "\ty_pred=regr.predict(X_test)\n",
        "\tscore = regr.score(X_test, y_test)\n",
        "\tmse = mean_squared_error(y_test, y_pred)\n",
        "\tmrse = math.sqrt(mse)\n",
        "\treturn y_pred, y_test, score, mse, mrse"
      ]
    },
    {
      "cell_type": "markdown",
      "source": [
        "Main.py"
      ],
      "metadata": {
        "id": "qsp3_jXiRFNw"
      }
    },
    {
      "cell_type": "code",
      "source": [
        "import pandas as pd\n",
        "\n",
        "df = pd.read_csv('FAOSTAT_data_1961_2019.csv')\n",
        "cleaned_df = clean_FAOSTAT(df)\n",
        "\n",
        "#create an emission activity and emission type list. Each value is a tuple, 0th -> activity, 1st -> type of emission\n",
        "emission_activity_and_type = list(cleaned_df.groupby(['Activity','Element']).indices.keys())\n",
        "\n",
        "'''Anthropogenic climate change is caused by multiple climate pollutants, with CO2, CH4, and N2O the three largest individual contributors to global warming. Agriculture and food production is associated with all three of these gases, but direct agricultural emissions are unusual in being dominated by CH4 and N2O.'''\n",
        "\n",
        "#filter the emissions list to only contain the biggest contributers to argiculture\n",
        "CO2_gas_list = list_emissions(\"CO2\", emission_activity_and_type)\n",
        "CH4_gas_list = list_emissions(\"CH4\", emission_activity_and_type)\n",
        "N2O_gas_list = list_emissions(\"N2O\", emission_activity_and_type)\n",
        "\n",
        "#Because Area and Unit are the same value in every row (USA, Kilotonnes respectively), I will drop those. Set the column indicies to Activity\n",
        "CO2_df = create_emission_df(cleaned_df, CO2_gas_list)\n",
        "CH4_df = create_emission_df(cleaned_df, CH4_gas_list)\n",
        "N2O_df = create_emission_df(cleaned_df, N2O_gas_list)\n",
        "\n",
        "#filter the emissions list to only contain the biggest contributers to argiculture\n",
        "CO2_df = create_emissions_frame(['Activity', 'Element'], CO2_df)\n",
        "CH4_df = create_emissions_frame(['Activity', 'Element'], CH4_df)\n",
        "N2O_df = create_emissions_frame(['Activity', 'Element'], N2O_df)\n",
        "\n",
        "#drop highly correlated features\n",
        "CO2_df = drop_correlations(CO2_df)\n",
        "CH4_df = drop_correlations(CH4_df)\n",
        "N2O_df = drop_correlations(N2O_df)\n",
        "\n",
        "#the features that remain are not related to forests and fires but agrivulture\n",
        "#all features have a correlation less than abs(THRESHOLD_CORRELATION)\n",
        "CO2_df = remove_fire_data(CO2_df)\n",
        "CH4_df = remove_fire_data(CH4_df)\n",
        "N2O_df = remove_fire_data(N2O_df)\n",
        "\n",
        "#import crop yields data\n",
        "prod_amt=pd.read_csv('clean_production.csv')\n",
        "prod_amt.drop(columns=['Unnamed: 0'],inplace=True)\n",
        "prod_amt.rename(columns={\"YEAR\":\"Year\"},inplace=True)\n",
        "prod_amt['Year']=prod_amt['Year'].astype(\"str\")"
      ],
      "metadata": {
        "colab": {
          "base_uri": "https://localhost:8080/"
        },
        "id": "Zlbqx1bnEMaJ",
        "outputId": "40e70aca-f7ac-424b-c859-88a6e5bb1332"
      },
      "execution_count": 10,
      "outputs": [
        {
          "output_type": "stream",
          "name": "stderr",
          "text": [
            "<ipython-input-8-ba6a91682522>:77: DeprecationWarning: `np.bool` is a deprecated alias for the builtin `bool`. To silence this warning, use `bool` by itself. Doing this will not modify any behavior and is safe. If you specifically wanted the numpy scalar type, use `np.bool_` here.\n",
            "Deprecated in NumPy 1.20; for more details and guidance: https://numpy.org/devdocs/release/1.20.0-notes.html#deprecations\n",
            "  upper = corr_matrix.where(np.triu(np.ones(corr_matrix.shape), k=1).astype(np.bool))\n"
          ]
        }
      ]
    },
    {
      "cell_type": "markdown",
      "source": [
        "# Calling of Model with Score"
      ],
      "metadata": {
        "id": "AyphZBmlnPKJ"
      }
    },
    {
      "cell_type": "markdown",
      "source": [
        "CO2 levels and crops prediction model\n",
        "Note that if model is re-run the numbers might be slightly different since the data has added Gaussian noise, random seed is provided."
      ],
      "metadata": {
        "id": "gKjbF5LCRIL7"
      }
    },
    {
      "cell_type": "code",
      "source": [
        "#CO2 and crop yields\n",
        "#merge the two df\n",
        "drop_columns_CO2 = 'Year_x'\n",
        "crops_CO2_df = merge_df(prod_amt, CO2_df, drop_columns_CO2)\n",
        "#augment the data since it has one entry per year between 1990 and 2016\n",
        "crops_CO2_augmented = augment_df(crops_CO2_df)\n",
        "#select features for CO2\n",
        "features_CO2 = [\"On-farm energy use_Emissions (CO2)\",                        \n",
        "\t\t\t\t\"IPCC Agriculture_Emissions (CO2eq) (AR5)\",       \n",
        "\t\t\t\t\"Emissions on agricultural land_Emissions (CO2)\", \n",
        "\t\t\t\t\"Farm-gate emissions_Emissions (CO2eq) (AR5)\"]\n",
        "#labels apply to all models\n",
        "labels_all = ['RICE_TONNE_HA',\n",
        "\t\t\t  'WHEAT_TONNE_HA',\n",
        "\t\t\t  'MAIZE_TONNE_HA',\n",
        "\t\t\t  'SOYBEAN_TONNE_HA']\n",
        "#build linear regression model for crop yields and CO2\n",
        "CO2_pred, CO2_test, crops_CO2_score, crops_CO2_mse, crops_CO2_mrse = run_model(crops_CO2_df, features_CO2, labels_all)\n",
        "print(\"Crops_CO2_r^2_score = \", crops_CO2_score, \n",
        "\t  \"Crops_CO2_mse = \", crops_CO2_mse, \n",
        "\t  \"Crops_CO2_mrse = \", crops_CO2_mrse)"
      ],
      "metadata": {
        "id": "KuTNuHOVElXx",
        "colab": {
          "base_uri": "https://localhost:8080/"
        },
        "outputId": "0a561cd8-145a-41b4-bbd3-cfa6d36ac92e"
      },
      "execution_count": 11,
      "outputs": [
        {
          "output_type": "stream",
          "name": "stdout",
          "text": [
            "Crops_CO2_r^2_score =  0.6286858226823003 Crops_CO2_mse =  0.22589663696197151 Crops_CO2_mrse =  0.47528584763484333\n"
          ]
        }
      ]
    },
    {
      "cell_type": "markdown",
      "source": [
        "CH4 levels and crops prediction model\n",
        "Note that if model is re-run the numbers might be slightly different since the data has added Gaussian noise, random seed is provided."
      ],
      "metadata": {
        "id": "gR8crQYTRbEY"
      }
    },
    {
      "cell_type": "code",
      "source": [
        "#crop yields and CH4\n",
        "#merge crop yield and CH4\n",
        "drop_columns_CH4 = [\"Year_x\", \"Year_y\"]\n",
        "crops_CH4_df = merge_df(prod_amt, CH4_df, drop_columns_CH4)\n",
        "#augment data frame since it has one entry per years 1990-2016\n",
        "crops_CH4_augmented = augment_df(crops_CH4_df)\n",
        "#select features sepecific to CH4\n",
        "features_CH4 = [\"Enteric Fermentation_Emissions (CH4)\",    \n",
        "\t\t\t\t\"Manure Management_Emissions (CH4)\",\n",
        "\t\t\t\t\"On-farm energy use_Emissions (CH4)\" ]\n",
        "#build linear regression model\n",
        "CH4_pred, CH4_test, crops_CH4_score, crops_CH4_mse, crops_CH4_mrse = run_model(crops_CH4_df, features_CH4, labels_all)\n",
        "print(\"Crops_CH4_r^2_score = \", crops_CH4_score, \n",
        "\t  \"Crops_CH4_mse = \", crops_CH4_mse, \n",
        "\t  \"Crops_CH4_mrse = \", crops_CH4_mrse)"
      ],
      "metadata": {
        "id": "L5iEA_wIEque",
        "colab": {
          "base_uri": "https://localhost:8080/"
        },
        "outputId": "9918cd6a-1a8e-4e02-df77-b575e2dab207"
      },
      "execution_count": 12,
      "outputs": [
        {
          "output_type": "stream",
          "name": "stdout",
          "text": [
            "Crops_CH4_r^2_score =  0.4939693123010209 Crops_CH4_mse =  0.4047608294251469 Crops_CH4_mrse =  0.6362081651669891\n"
          ]
        }
      ]
    },
    {
      "cell_type": "markdown",
      "source": [
        "N2O levels and crops prediction model\n",
        "Note that if model is re-run the numbers might be slightly different since the data has added Gaussian noise, random seed is provided."
      ],
      "metadata": {
        "id": "Qmib8glkRdXd"
      }
    },
    {
      "cell_type": "code",
      "source": [
        "#crop yields and N2O\n",
        "#merge crop yields and N20\n",
        "drop_columns_N2O = [\"Year_x\", \"Year_y\"]\n",
        "crops_N2O_df = merge_df(prod_amt, N2O_df, drop_columns_N2O)\n",
        "#augment data frame since it has one entry per years 1990-2016\n",
        "crops_N2O_augmented = augment_df(crops_N2O_df)\n",
        "#select features specific to N2O\n",
        "features_N2O = ['Manure Management_Emissions (N2O)',\n",
        "\t\t\t\t'Synthetic Fertilizers_Direct emissions (N2O)',\n",
        "\t\t\t\t'On-farm energy use_Emissions (N2O)',\n",
        "\t\t\t\t'Manure applied to Soils_Direct emissions (N2O)',\n",
        "\t\t\t\t'Crop Residues_Direct emissions (N2O)',\n",
        "\t\t\t\t'Drained organic soils (N2O)_Emissions (N2O)',\n",
        "\t\t\t\t'IPCC Agriculture_Direct emissions (N2O)']\n",
        "#build linear regression model for N2O\n",
        "N2O_pred, N2O_test, crops_N2O_score, crops_N2O_mse, crops_N2O_mrse = run_model(crops_N2O_df, features_N2O, labels_all)\n",
        "print(\"Crops_N2O_r^2_score = \", crops_N2O_score, \n",
        "\t  \"Crops_N2O_mse = \", crops_N2O_mse, \n",
        "\t  \"Crops_N2O_mrse = \", crops_N2O_mrse)"
      ],
      "metadata": {
        "id": "Rh2VlmR4EuUk",
        "colab": {
          "base_uri": "https://localhost:8080/"
        },
        "outputId": "9512f3bb-530e-40cd-a3fa-3e3db783064e"
      },
      "execution_count": 13,
      "outputs": [
        {
          "output_type": "stream",
          "name": "stdout",
          "text": [
            "Crops_N2O_r^2_score =  0.8308109396482756 Crops_N2O_mse =  0.07437804321867085 Crops_N2O_mrse =  0.2727233822367837\n"
          ]
        }
      ]
    },
    {
      "cell_type": "markdown",
      "source": [
        "# Functions for Plotting and Visual Analysis"
      ],
      "metadata": {
        "id": "U3ofh9LSm_eg"
      }
    },
    {
      "cell_type": "code",
      "source": [
        "def plot_pred_vs_act(dfplot, title):\n",
        "  dfplot.plot(kind='bar')\n",
        "  plt.grid(which='major', linestyle='-', linewidth='0.5', color='black')\n",
        "  plt.grid(which='minor', linestyle=':', linewidth='0.5', color='black')\n",
        "  plt.title(title)\n",
        "  plt.ylabel('Values')\n",
        "  plt.legend(loc='lower right')\n",
        "  plt.show()\n",
        "\n",
        "def create_bar(df_bar1,df_bar2,title):\n",
        "  df_plot_bar_fun=pd.DataFrame(df_bar1,df_bar2)\n",
        "  df_plot_bar_fun.reset_index(inplace=True)\n",
        "  df_plot_bar_fun.set_axis(['actual', 'Predicted'], axis='columns', inplace=True)\n",
        "  plot_pred_vs_act(df_plot_bar_fun,title)\n",
        "\n",
        "def create_scatter(df_def,title):\n",
        "  plt.scatter(df_def['actual'], df_def['Predicted'])\n",
        "  plt.ylabel(\"Values\")\n",
        "  plt.title(title)\n",
        "  plt.show()\n",
        "\n",
        "def plot_prediction(rice, wheat, maize, soybean, title):\n",
        "    x = range(len(rice))\n",
        "    plt.plot(x, rice, label=\"Rice\")\n",
        "    plt.plot(x, wheat, label=\"Wheat\")\n",
        "    plt.plot(x, maize, label=\"Maize\")\n",
        "    plt.plot(x, soybean, label=\"Soybean\")\n",
        "    # plt.xlabel(\"TONNE_HA\")\n",
        "    plt.legend()\n",
        "    # plt.ylabel(label_y)\n",
        "    plt.title(title)\n",
        "    axes = plt.axes()\n",
        "    axes.xaxis.set_major_locator(plt.MaxNLocator(10))\n",
        "    plt.show()\n",
        "\n",
        "def plot_test(rice, wheat, maize, soybean, title):\n",
        "    x = range(len(rice))\n",
        "    plt.plot(x, rice, label=\"Rice\")\n",
        "    plt.plot(x, wheat, label=\"Wheat\")\n",
        "    plt.plot(x, maize, label=\"Maize\")\n",
        "    plt.plot(x, soybean, label=\"Soybean\")\n",
        "    # plt.xlabel(\"Year\")\n",
        "    plt.legend()\n",
        "    # plt.ylabel(\"TONNE_HA\")\n",
        "    plt.title(title)\n",
        "    axes = plt.axes()\n",
        "    axes.xaxis.set_major_locator(plt.MaxNLocator(10))\n",
        "    plt.show()\n",
        "\n",
        "def extract_crops_from_prediction(predictions):\n",
        "  rice = []\n",
        "  wheat = []\n",
        "  maize = []\n",
        "  soybean = []\n",
        "  for prediction in predictions:\n",
        "    rice.append(prediction[0])\n",
        "    wheat.append(prediction[1])\n",
        "    maize.append(prediction[2])\n",
        "    soybean.append(prediction[3])\n",
        "  return rice, wheat, maize, soybean\n",
        "\n",
        "def extract_crops_from_test(test_data):\n",
        "  rice = test_data[\"RICE_TONNE_HA\"]\n",
        "  wheat = test_data[\"WHEAT_TONNE_HA\"]\n",
        "  maize = test_data[\"MAIZE_TONNE_HA\"]\n",
        "  soybean = test_data[\"SOYBEAN_TONNE_HA\"]\n",
        "  return rice, wheat, maize, soybean"
      ],
      "metadata": {
        "id": "OrB5HnWvR7ea"
      },
      "execution_count": 62,
      "outputs": []
    },
    {
      "cell_type": "code",
      "source": [
        "N2O_rice_pred, N2O_wheat_pred, N2O_maize_pred, N2O_soybean_pred = extract_crops_from_prediction(N2O_pred)\n",
        "N2O_rice_test, N2O_wheat_test, N2O_maize_test, N2O_soybean_test = extract_crops_from_test(N2O_test)"
      ],
      "metadata": {
        "id": "XFN9rMZyM28i"
      },
      "execution_count": 15,
      "outputs": []
    },
    {
      "cell_type": "code",
      "source": [
        "CO2_rice_pred, CO2_wheat_pred, CO2_maize_pred, CO2_soybean_pred = extract_crops_from_prediction(CO2_pred)\n",
        "CO2_rice_test, CO2_wheat_test, CO2_maize_test, CO2_soybean_test = extract_crops_from_test(CO2_test)"
      ],
      "metadata": {
        "id": "l0QWUsDoaoiG"
      },
      "execution_count": 50,
      "outputs": []
    },
    {
      "cell_type": "code",
      "source": [
        "CH4_rice_pred, CH4_wheat_pred, CH4maize_pred, CH4_soybean_pred = extract_crops_from_prediction(CH4_pred)\n",
        "CH4_rice_test, CH4_wheat_test, CH4_maize_test, CH4_soybean_test = extract_crops_from_test(CH4_test)"
      ],
      "metadata": {
        "id": "3CVKcO_aa7_n"
      },
      "execution_count": 51,
      "outputs": []
    },
    {
      "cell_type": "markdown",
      "source": [
        "# Bar Chart Function Calls"
      ],
      "metadata": {
        "id": "TJ5cEQwEkEy0"
      }
    },
    {
      "cell_type": "code",
      "source": [
        "create_bar(N2O_rice_pred,N2O_rice_test,'Rice N2O Predicted vs Actual')"
      ],
      "metadata": {
        "colab": {
          "base_uri": "https://localhost:8080/",
          "height": 278
        },
        "id": "-YB85C1PjuVs",
        "outputId": "7870d112-2e2d-4847-ec54-f3eb77b84801"
      },
      "execution_count": 41,
      "outputs": [
        {
          "output_type": "display_data",
          "data": {
            "text/plain": [
              "<Figure size 432x288 with 1 Axes>"
            ],
            "image/png": "[encoded data removed]"
          },
          "metadata": {
            "needs_background": "light"
          }
        }
      ]
    },
    {
      "cell_type": "code",
      "source": [
        "create_bar(N2O_wheat_pred,N2O_wheat_test,'Wheat N2O Predicted vs Actual')"
      ],
      "metadata": {
        "colab": {
          "base_uri": "https://localhost:8080/",
          "height": 278
        },
        "id": "3K9erAqHkKBL",
        "outputId": "daeb7b04-a3e0-4ce6-ebc5-fc272d1ddc94"
      },
      "execution_count": 42,
      "outputs": [
        {
          "output_type": "display_data",
          "data": {
            "text/plain": [
              "<Figure size 432x288 with 1 Axes>"
            ],
            "image/png": "[encoded data removed]"
          },
          "metadata": {
            "needs_background": "light"
          }
        }
      ]
    },
    {
      "cell_type": "code",
      "source": [
        "create_bar(N2O_maize_pred,N2O_maize_test,'Maize N2O Predicted vs Actual')"
      ],
      "metadata": {
        "colab": {
          "base_uri": "https://localhost:8080/",
          "height": 278
        },
        "id": "HubPkJ0ikSCK",
        "outputId": "81bc3f74-b79c-4675-f588-f2936ff3684f"
      },
      "execution_count": 43,
      "outputs": [
        {
          "output_type": "display_data",
          "data": {
            "text/plain": [
              "<Figure size 432x288 with 1 Axes>"
            ],
            "image/png": "[encoded data removed]"
          },
          "metadata": {
            "needs_background": "light"
          }
        }
      ]
    },
    {
      "cell_type": "code",
      "source": [
        "create_bar(N2O_soybean_pred,N2O_soybean_test,'Soybean N2O Predicted vs Actual')"
      ],
      "metadata": {
        "colab": {
          "base_uri": "https://localhost:8080/",
          "height": 278
        },
        "id": "54ntVU-pkbAN",
        "outputId": "729fa1e9-4fca-401c-8cef-017681f74efd"
      },
      "execution_count": 45,
      "outputs": [
        {
          "output_type": "display_data",
          "data": {
            "text/plain": [
              "<Figure size 432x288 with 1 Axes>"
            ],
            "image/png": "[encoded data removed]"
          },
          "metadata": {
            "needs_background": "light"
          }
        }
      ]
    },
    {
      "cell_type": "code",
      "source": [
        "create_bar(CO2_rice_pred,CO2_rice_test,'Rice CO2 Predicted vs Actual')"
      ],
      "metadata": {
        "colab": {
          "base_uri": "https://localhost:8080/",
          "height": 278
        },
        "id": "PwFyKKq3kmyG",
        "outputId": "681bc7d7-8cf9-4f0c-c65f-ef008c09a4c7"
      },
      "execution_count": 46,
      "outputs": [
        {
          "output_type": "display_data",
          "data": {
            "text/plain": [
              "<Figure size 432x288 with 1 Axes>"
            ],
            "image/png": "[encoded data removed]"
          },
          "metadata": {
            "needs_background": "light"
          }
        }
      ]
    },
    {
      "cell_type": "code",
      "source": [
        "create_bar(CO2_wheat_pred,CO2_wheat_test,'Wheat CO2 Predicted vs Actual')"
      ],
      "metadata": {
        "colab": {
          "base_uri": "https://localhost:8080/",
          "height": 278
        },
        "id": "XbJWv6hOk32n",
        "outputId": "136d3c69-25cf-440e-d64d-c792e843566e"
      },
      "execution_count": 47,
      "outputs": [
        {
          "output_type": "display_data",
          "data": {
            "text/plain": [
              "<Figure size 432x288 with 1 Axes>"
            ],
            "image/png": "[encoded data removed]"
          },
          "metadata": {
            "needs_background": "light"
          }
        }
      ]
    },
    {
      "cell_type": "code",
      "source": [
        "create_bar(CO2_maize_pred,CO2_maize_test,'Maize CO2 Predicted vs Actual')"
      ],
      "metadata": {
        "colab": {
          "base_uri": "https://localhost:8080/",
          "height": 278
        },
        "id": "WR0AzHPalAEv",
        "outputId": "8c2df776-1b97-4378-d150-542b35da39be"
      },
      "execution_count": 48,
      "outputs": [
        {
          "output_type": "display_data",
          "data": {
            "text/plain": [
              "<Figure size 432x288 with 1 Axes>"
            ],
            "image/png": "[encoded data removed]"
          },
          "metadata": {
            "needs_background": "light"
          }
        }
      ]
    },
    {
      "cell_type": "code",
      "source": [
        "create_bar(CO2_soybean_pred,CO2_soybean_test,'Soybean CO2 Predicted vs Actual')"
      ],
      "metadata": {
        "colab": {
          "base_uri": "https://localhost:8080/",
          "height": 278
        },
        "id": "KS3DXP0VlFDk",
        "outputId": "842114d2-2f1c-4b84-abaf-f2bc03041be1"
      },
      "execution_count": 49,
      "outputs": [
        {
          "output_type": "display_data",
          "data": {
            "text/plain": [
              "<Figure size 432x288 with 1 Axes>"
            ],
            "image/png": "[encoded data removed]"
          },
          "metadata": {
            "needs_background": "light"
          }
        }
      ]
    },
    {
      "cell_type": "code",
      "source": [
        "create_bar(CH4_rice_pred,CH4_rice_test,'Rice CH4 Predicted vs Actual')"
      ],
      "metadata": {
        "colab": {
          "base_uri": "https://localhost:8080/",
          "height": 278
        },
        "id": "raBOv9MflVhj",
        "outputId": "22756bd7-f3ab-47de-d234-963178e4084d"
      },
      "execution_count": 52,
      "outputs": [
        {
          "output_type": "display_data",
          "data": {
            "text/plain": [
              "<Figure size 432x288 with 1 Axes>"
            ],
            "image/png": "[encoded data removed]"
          },
          "metadata": {
            "needs_background": "light"
          }
        }
      ]
    },
    {
      "cell_type": "code",
      "source": [
        "create_bar(CH4_wheat_pred,CH4_wheat_test,'Wheat CH4 Predicted vs Actual')"
      ],
      "metadata": {
        "colab": {
          "base_uri": "https://localhost:8080/",
          "height": 278
        },
        "id": "_CnE-6YUlgtF",
        "outputId": "a73cc391-bade-4ee1-cbf8-7788372735ca"
      },
      "execution_count": 53,
      "outputs": [
        {
          "output_type": "display_data",
          "data": {
            "text/plain": [
              "<Figure size 432x288 with 1 Axes>"
            ],
            "image/png": "[encoded data removed]"
          },
          "metadata": {
            "needs_background": "light"
          }
        }
      ]
    },
    {
      "cell_type": "code",
      "source": [
        "create_bar(CH4maize_pred,CH4_maize_test,'Maize CH4 Predicted vs Actual')"
      ],
      "metadata": {
        "colab": {
          "base_uri": "https://localhost:8080/",
          "height": 278
        },
        "id": "z61CN9hQlxKK",
        "outputId": "86210e60-f4f9-4491-c7fc-9f51a6149d4e"
      },
      "execution_count": 56,
      "outputs": [
        {
          "output_type": "display_data",
          "data": {
            "text/plain": [
              "<Figure size 432x288 with 1 Axes>"
            ],
            "image/png": "[encoded data removed]"
          },
          "metadata": {
            "needs_background": "light"
          }
        }
      ]
    },
    {
      "cell_type": "code",
      "source": [
        "create_bar(CH4_soybean_pred,CH4_soybean_test,'Soybean CH4 Predicted vs Actual')"
      ],
      "metadata": {
        "colab": {
          "base_uri": "https://localhost:8080/",
          "height": 278
        },
        "id": "d_ZDfeggllbE",
        "outputId": "ae49e927-e443-4429-84e9-25c5af9896e1"
      },
      "execution_count": 54,
      "outputs": [
        {
          "output_type": "display_data",
          "data": {
            "text/plain": [
              "<Figure size 432x288 with 1 Axes>"
            ],
            "image/png": "[encoded data removed]"
          },
          "metadata": {
            "needs_background": "light"
          }
        }
      ]
    },
    {
      "cell_type": "markdown",
      "source": [
        "# ScatterPlots"
      ],
      "metadata": {
        "id": "fZmafMB6mukU"
      }
    },
    {
      "cell_type": "code",
      "source": [
        "n2o_list=[df_plot_bar_No2_rice,df_plot_bar_No2_wheat,df_plot_bar_No2_maize,df_plot_bar_No2_soybean]\n",
        "df_allN20=pd.concat(n2o_list)"
      ],
      "metadata": {
        "id": "dqYfw-1x1ILc"
      },
      "execution_count": 30,
      "outputs": []
    },
    {
      "cell_type": "code",
      "source": [
        "CH4_list=[df_plot_bar_CH4_rice,df_plot_bar_CH4_wheat,df_plot_bar_CH4_maize,df_plot_bar_CH4_soybean]\n",
        "df_allCH4=pd.concat(CH4_list)"
      ],
      "metadata": {
        "id": "8UHxFIUN233E"
      },
      "execution_count": 31,
      "outputs": []
    },
    {
      "cell_type": "code",
      "source": [
        "CO2_list=[df_plot_bar_CO2_rice,df_plot_bar_CO2_wheat,df_plot_bar_CO2_maize,df_plot_bar_CO2_soybean]\n",
        "df_allCO2=pd.concat(CO2_list)"
      ],
      "metadata": {
        "id": "wGO3PoxN3Ji_"
      },
      "execution_count": 32,
      "outputs": []
    },
    {
      "cell_type": "code",
      "source": [
        "plt.scatter(df_allN20['actual'], df_allN20['Predicted'])\n",
        "plt.scatter(df_allCH4['actual'], df_allCH4['Predicted'])\n",
        "plt.scatter(df_allCO2['actual'], df_allCO2['Predicted'])\n",
        "plt.ylabel(\"Values\")\n",
        "plt.title(\"Model Preformance for all Food Types\")\n",
        "plt.show()"
      ],
      "metadata": {
        "id": "qQjV49KI1yEA",
        "colab": {
          "base_uri": "https://localhost:8080/",
          "height": 281
        },
        "outputId": "4449fff0-e557-45c8-faba-23210cd58a48"
      },
      "execution_count": 67,
      "outputs": [
        {
          "output_type": "display_data",
          "data": {
            "text/plain": [
              "<Figure size 432x288 with 1 Axes>"
            ],
            "image/png": "[encoded data removed]"
          },
          "metadata": {
            "needs_background": "light"
          }
        }
      ]
    },
    {
      "cell_type": "code",
      "source": [
        "create_scatter(df_allN20,\"ScatterPlot: All foods N2O\")"
      ],
      "metadata": {
        "colab": {
          "base_uri": "https://localhost:8080/",
          "height": 281
        },
        "id": "rHvwUotTmYii",
        "outputId": "11713538-5cf0-4af1-f60f-69cccbc2a481"
      },
      "execution_count": 65,
      "outputs": [
        {
          "output_type": "display_data",
          "data": {
            "text/plain": [
              "<Figure size 432x288 with 1 Axes>"
            ],
            "image/png": "[encoded data removed]"
          },
          "metadata": {
            "needs_background": "light"
          }
        }
      ]
    },
    {
      "cell_type": "code",
      "source": [
        "create_scatter(df_allCH4,\"ScatterPlot: All foods CH4\")"
      ],
      "metadata": {
        "colab": {
          "base_uri": "https://localhost:8080/",
          "height": 281
        },
        "id": "814TcDKdmSyZ",
        "outputId": "7665010f-cd92-491f-f983-36ae5c3f70c3"
      },
      "execution_count": 64,
      "outputs": [
        {
          "output_type": "display_data",
          "data": {
            "text/plain": [
              "<Figure size 432x288 with 1 Axes>"
            ],
            "image/png": "[encoded data removed]"
          },
          "metadata": {
            "needs_background": "light"
          }
        }
      ]
    },
    {
      "cell_type": "code",
      "source": [
        "create_scatter(df_allCO2,\"ScatterPlot: All foods CO2\")"
      ],
      "metadata": {
        "colab": {
          "base_uri": "https://localhost:8080/",
          "height": 281
        },
        "id": "iOKVCP_uihUN",
        "outputId": "e7d9e581-36c4-4d58-827c-1acee0f8ae19"
      },
      "execution_count": 63,
      "outputs": [
        {
          "output_type": "display_data",
          "data": {
            "text/plain": [
              "<Figure size 432x288 with 1 Axes>"
            ],
            "image/png": "[encoded data removed]"
          },
          "metadata": {
            "needs_background": "light"
          }
        }
      ]
    }
  ]
}